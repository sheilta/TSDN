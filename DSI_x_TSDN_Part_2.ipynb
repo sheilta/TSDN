{
  "nbformat": 4,
  "nbformat_minor": 0,
  "metadata": {
    "colab": {
      "name": "DSI_x_TSDN_Part_2.ipynb",
      "provenance": [],
      "collapsed_sections": [
        "lYFXZMCRQF66",
        "QBzHnCwTdtDM",
        "rTrfVH8ZTZYe",
        "wjAHyTaldm5X",
        "7igoUAohYisL",
        "X6zqkxFim33o",
        "2FkrdiwLt-Wr",
        "M7gTe2ugyxXX",
        "ZF7nziY81G0z",
        "YUDXPzDG1XzS",
        "CuTRHsXZ11o_",
        "XZ8wcDjS9dYN",
        "rJLfyr9f2ITU",
        "u3CJ2os5_B3x",
        "0TUEQQv3BvJv"
      ],
      "include_colab_link": true
    },
    "kernelspec": {
      "display_name": "Python 3",
      "language": "python",
      "name": "python3"
    },
    "language_info": {
      "codemirror_mode": {
        "name": "ipython",
        "version": 3
      },
      "file_extension": ".py",
      "mimetype": "text/x-python",
      "name": "python",
      "nbconvert_exporter": "python",
      "pygments_lexer": "ipython3",
      "version": "3.8.8"
    }
  },
  "cells": [
    {
      "cell_type": "markdown",
      "metadata": {
        "id": "view-in-github",
        "colab_type": "text"
      },
      "source": [
        "<a href=\"https://colab.research.google.com/github/sheilta/TSDN/blob/main/DSI_x_TSDN_Part_2.ipynb\" target=\"_parent\"><img src=\"https://colab.research.google.com/assets/colab-badge.svg\" alt=\"Open In Colab\"/></a>"
      ]
    },
    {
      "cell_type": "markdown",
      "metadata": {
        "id": "jFUQc7eHaImC"
      },
      "source": [
        "# 1. Import Package & Data"
      ]
    },
    {
      "cell_type": "code",
      "metadata": {
        "id": "4MoRqlXAEqAY"
      },
      "source": [
        "# Import package\n",
        "import pandas as pd # data manipulation and analysis\n",
        "import numpy as np #fungsi matematika yang komprehensif\n",
        "import matplotlib.pyplot as plt # membuat plot\n",
        "import seaborn as sns # opsi lain untuk plot\n",
        "from scipy import stats \n",
        "from sklearn import preprocessing\n",
        "from sklearn.model_selection import train_test_split\n",
        "from sklearn.metrics import confusion_matrix, silhouette_score\n",
        "from sklearn.cluster import KMeans\n",
        "from sklearn.model_selection import cross_val_score\n",
        "from sklearn.metrics import classification_report, accuracy_score\n",
        "from sklearn.tree import DecisionTreeClassifier\n",
        "from sklearn.neighbors import KNeighborsClassifier \n",
        "from sklearn.model_selection import GridSearchCV\n",
        "from sklearn import tree\n",
        "pd.set_option('display.float_format', lambda x: '%.2f' % x) # set 2 angka dibelakang koma (desimal)"
      ],
      "execution_count": null,
      "outputs": []
    },
    {
      "cell_type": "markdown",
      "metadata": {
        "id": "ZgPVL-vZGgn8"
      },
      "source": [
        "Data Source: \n",
        "1. covid : kawalcovid19 https://datawrapper.dwcdn.net/MwHOx/581/\n",
        "2. iris :  UCI Machine Learning https://archive.ics.uci.edu/ml/datasets/iris"
      ]
    },
    {
      "cell_type": "code",
      "metadata": {
        "id": "zwt20LWcFXme"
      },
      "source": [
        "# Import data covid kabupaten kota ('data.csv')\n",
        "df = pd.read_csv('/content/data.csv')\n",
        "\n",
        "# Import data iris\n",
        "df1 = pd.read_csv('/content/iris.csv')"
      ],
      "execution_count": null,
      "outputs": []
    },
    {
      "cell_type": "code",
      "metadata": {
        "id": "l6_kv4zxF67p"
      },
      "source": [
        "# menampilkan data teratas untuk data covid\n",
        "df.head()"
      ],
      "execution_count": null,
      "outputs": []
    },
    {
      "cell_type": "code",
      "metadata": {
        "id": "CPQqEHvdHeIX"
      },
      "source": [
        "df1.head()"
      ],
      "execution_count": null,
      "outputs": []
    },
    {
      "cell_type": "markdown",
      "metadata": {
        "id": "72ujHsy9PPg8"
      },
      "source": [
        "*Note: untuk preprocessing data menggunakan dataset covid karena belum bersih, untuk modeling menggunakan dataset iris karena sudah cleann"
      ]
    },
    {
      "cell_type": "markdown",
      "metadata": {
        "id": "lYFXZMCRQF66"
      },
      "source": [
        "# 2. Preprocessing data"
      ]
    },
    {
      "cell_type": "code",
      "metadata": {
        "id": "KRDTQ14CLnX1"
      },
      "source": [
        "df.info() # Mencari informasi dari dataset, kayak str di R, object=string"
      ],
      "execution_count": null,
      "outputs": []
    },
    {
      "cell_type": "markdown",
      "metadata": {
        "id": "QBzHnCwTdtDM"
      },
      "source": [
        "## 2.1 Selecting Column"
      ]
    },
    {
      "cell_type": "code",
      "metadata": {
        "id": "VjAgIEC7QKTI"
      },
      "source": [
        "# slicing dataset (memilih kolom yang diinginkan), X.1 sampe Kabupaten.Kota di keep karena bisa untuk di visualisasi tableau\n",
        "#Pos T = positif total, pos p= dirawat\n",
        "df_slice = df[['X.1','Provinsi', 'Kabupaten/Kota','POS T','POS P',\n",
        "       'POS S', 'POS MD', 'Luas Wilayah',\n",
        "       'Jumlah Penduduk', 'Penduduk/sq.km', 'X.3']]\n",
        "df_slice.shape"
      ],
      "execution_count": null,
      "outputs": []
    },
    {
      "cell_type": "code",
      "metadata": {
        "id": "hhIuSDM6SMjB"
      },
      "source": [
        "df_slice.head()"
      ],
      "execution_count": null,
      "outputs": []
    },
    {
      "cell_type": "code",
      "metadata": {
        "id": "EJ2UZVqibWHD"
      },
      "source": [
        "df_slice.info()"
      ],
      "execution_count": null,
      "outputs": []
    },
    {
      "cell_type": "markdown",
      "metadata": {
        "id": "rTrfVH8ZTZYe"
      },
      "source": [
        "## 2.2 Handling Missing value\n",
        "\n",
        "1. drop NaN (menghapus missing value karena tidak digunakan) `df.dropna()`\n",
        "\n",
        "2. Fill NaN (mengisi missing value karena data digunakan) `df.fillna(df.mean())`\n",
        "\n",
        "3. Fill NaN dengan interpolasi (baik untuk data continuous) ex: Time series data `df.interpolate(method=\"polynomial\", order=2)`\n",
        "\n"
      ]
    },
    {
      "cell_type": "code",
      "metadata": {
        "id": "uBIn2hPkSNng"
      },
      "source": [
        "null_data = df_slice[df_slice.isnull().any(axis=1)]#is.null buat manggil yang kosong\n",
        "null_data"
      ],
      "execution_count": null,
      "outputs": []
    },
    {
      "cell_type": "code",
      "metadata": {
        "id": "8HV1avfid14w"
      },
      "source": [
        "df_drop = df_slice.dropna()#karena yang missing bisa dihapus, maka digunakan dropna\n",
        "df_drop.shape"
      ],
      "execution_count": null,
      "outputs": []
    },
    {
      "cell_type": "markdown",
      "metadata": {
        "id": "wjAHyTaldm5X"
      },
      "source": [
        "##  2.3 Filtering Raw"
      ]
    },
    {
      "cell_type": "code",
      "metadata": {
        "id": "oBPMJY8uabmb"
      },
      "source": [
        "# Cek tanggal update, pengin liat tanggal update\n",
        "#df_drop['X.3] mengambil kolom, value_count dengan dihitung, kemudian di sort(sort_values) kemudian di plot kan\n",
        "#plot tipe barchart dengan ukuran 10,5\n",
        "# ax.patches buat label\n",
        "ax=df_drop['X.3'].value_counts().sort_values(ascending=False)[:10].plot(figsize=(10,5),kind='bar', rot=0, width=0.8)\n",
        "for p in ax.patches:\n",
        "    ax.annotate(str(p.get_height()), (p.get_x(), p.get_height()))"
      ],
      "execution_count": null,
      "outputs": []
    },
    {
      "cell_type": "code",
      "metadata": {
        "id": "sChUZOKDbnvd"
      },
      "source": [
        "#tampilkan data selain tanggal 09/18/2021\n",
        "df_drop[df_drop[\"X.3\"]!=\"9/18/2021\"]"
      ],
      "execution_count": null,
      "outputs": []
    },
    {
      "cell_type": "code",
      "metadata": {
        "id": "NCoWl8Udcqm1"
      },
      "source": [
        "#filter untuk tanggal 09/18/2021\n",
        "df_filter = df_drop[df_drop[\"X.3\"]==\"9/18/2021\"]\n",
        "df_filter.shape"
      ],
      "execution_count": null,
      "outputs": []
    },
    {
      "cell_type": "markdown",
      "metadata": {
        "id": "7igoUAohYisL"
      },
      "source": [
        "## 2.4 Rename Column\n",
        "\n",
        "note: memudahkan proses selanjutnya"
      ]
    },
    {
      "cell_type": "code",
      "metadata": {
        "id": "79mbv0WwgA49"
      },
      "source": [
        "df_rename= df_filter.rename({'X.1': 'kode', 'Provinsi' : 'provinsi', 'Kabupaten/Kota' : 'kabkot','POS T' : 'total','POS P' : 'dirawat',\n",
        "       'POS S': 'sembuh', 'POS MD' : 'meninggal', 'Luas Wilayah' : 'luas_wilayah',\n",
        "       'Jumlah Penduduk' : 'jml_penduduk', 'Penduduk/sq.km' :'kepadatan', 'X.3':'tanggal'}, axis=1)\n",
        "df_rename.head()"
      ],
      "execution_count": null,
      "outputs": []
    },
    {
      "cell_type": "markdown",
      "metadata": {
        "id": "X6zqkxFim33o"
      },
      "source": [
        "## 2.5 Statistik Deskriptif"
      ]
    },
    {
      "cell_type": "code",
      "metadata": {
        "id": "WnubUqhChqQv"
      },
      "source": [
        "#sort data berdasarkan nilainya\n",
        "df_rename.sort_values(by=['total'])"
      ],
      "execution_count": null,
      "outputs": []
    },
    {
      "cell_type": "code",
      "metadata": {
        "id": "63EppAs9hC4s"
      },
      "source": [
        "#lihat statistik deskriptif nya, bisa keliatan outlier bila dibandingin sama rata2\n",
        "df_stats=df_rename[['total','dirawat','sembuh','meninggal','kepadatan']]\n",
        "df_stats.describe()"
      ],
      "execution_count": null,
      "outputs": []
    },
    {
      "cell_type": "markdown",
      "metadata": {
        "id": "2FkrdiwLt-Wr"
      },
      "source": [
        "## 2.6 Handling Outlier"
      ]
    },
    {
      "cell_type": "code",
      "metadata": {
        "id": "-INqknhMiaeR"
      },
      "source": [
        "df_stats.plot(kind='box',subplots=True,layout=(1,5),sharex=False, figsize=(15,5))\n",
        "plt.show()\n",
        "#fokus bagian total"
      ],
      "execution_count": null,
      "outputs": []
    },
    {
      "cell_type": "code",
      "metadata": {
        "id": "ICEF-HSInLJd"
      },
      "source": [
        "#menangani outlier, cuman memasukkan nilai z score < 3\n",
        "df_zscore=df_stats[(np.abs(stats.zscore(df_stats)) < 3).all(axis=1)]\n",
        "df_zscore.plot(kind='box',subplots=True,layout=(1,5),sharex=False, figsize=(15,5))\n",
        "plt.show()"
      ],
      "execution_count": null,
      "outputs": []
    },
    {
      "cell_type": "code",
      "metadata": {
        "id": "lPpwlB_Sr54p"
      },
      "source": [
        "df_zscore.shape"
      ],
      "execution_count": null,
      "outputs": []
    },
    {
      "cell_type": "code",
      "metadata": {
        "id": "_FuADHBwoLJx"
      },
      "source": [
        "#Versi kedua penanganan outlier\n",
        "#find Q1, Q3, and interquartile range for each column\n",
        "Q1 = df_stats.quantile(q=.25)\n",
        "Q3 = df_stats.quantile(q=.75)\n",
        "IQR = df_stats.apply(stats.iqr) #IQR=Q3-Q1\n",
        "\n",
        "#keep nilai antara 1.5*IQR dari Q1 dan Q3, yang nilai lebih dari atau kurang dari dibuang\n",
        "df_iqr = df_stats[~((df_stats < (Q1-1.5*IQR)) | (df_stats > (Q3+1.5*IQR))).any(axis=1)]\n",
        "df_iqr.plot(kind='box',subplots=True,layout=(1,5),sharex=False, figsize=(15,5))\n",
        "plt.show()"
      ],
      "execution_count": null,
      "outputs": []
    },
    {
      "cell_type": "code",
      "metadata": {
        "id": "nWBgMWaVrs7N"
      },
      "source": [
        "df_iqr.shape"
      ],
      "execution_count": null,
      "outputs": []
    },
    {
      "cell_type": "markdown",
      "metadata": {
        "id": "M7gTe2ugyxXX"
      },
      "source": [
        "## 2.7 Handling Non Normal Distribution\n",
        "\n",
        "Note: not mandatory / u can ignoring in some cases"
      ]
    },
    {
      "cell_type": "code",
      "metadata": {
        "id": "vDRWKZszyEwD"
      },
      "source": [
        "df_stats.plot(kind='density',subplots=True,layout=(1,5),sharex=False, figsize=(15,5))\n",
        "plt.show()"
      ],
      "execution_count": null,
      "outputs": []
    },
    {
      "cell_type": "code",
      "metadata": {
        "id": "zfzjoaM5wmpC"
      },
      "source": [
        "total = df_stats['total'].values#pangiil nilai dari kolom total"
      ],
      "execution_count": null,
      "outputs": []
    },
    {
      "cell_type": "code",
      "metadata": {
        "id": "E-GUZrjTwwW-"
      },
      "source": [
        "#keliatan ga normal karena condong kiri\n",
        "fig, ax = plt.subplots(figsize=(10, 5))\n",
        "ax.hist(total, bins='auto', density=True)\n",
        "ax.set_xlabel('positive')\n",
        "ax.set_ylabel('probability')\n",
        "ax.set_title('Non-normal Distribution');"
      ],
      "execution_count": null,
      "outputs": []
    },
    {
      "cell_type": "code",
      "metadata": {
        "id": "_WiPAdmKxA4D"
      },
      "source": [
        "trans, lmbda = stats.boxcox(total)#penanganan dengan box cox"
      ],
      "execution_count": null,
      "outputs": []
    },
    {
      "cell_type": "code",
      "metadata": {
        "id": "1xB_3cnZxLXW"
      },
      "source": [
        "print('Best lambda parameter = %s' % round(lmbda, 3))\n",
        "\n",
        "fig, ax = plt.subplots(figsize=(8, 4))\n",
        "prob = stats.boxcox_normplot(total, -20, 20, plot=ax)\n",
        "ax.axvline(lmbda, color='r');"
      ],
      "execution_count": null,
      "outputs": []
    },
    {
      "cell_type": "code",
      "metadata": {
        "id": "rQURtVx1xYC6"
      },
      "source": [
        "trans.sort()\n",
        "mean, std = stats.norm.fit(trans, loc=0)\n",
        "pdf_norm = stats.norm.pdf(trans, mean, std)"
      ],
      "execution_count": null,
      "outputs": []
    },
    {
      "cell_type": "code",
      "metadata": {
        "id": "9l0ZkqGvxpeR"
      },
      "source": [
        "fig, ax = plt.subplots(figsize=(10, 5))\n",
        "ax.hist(trans, bins='auto', density=True)\n",
        "ax.plot(trans, pdf_norm, label='Fitted normal distribution')\n",
        "ax.set_xlabel('positive')\n",
        "ax.set_ylabel('Transformed Probability')\n",
        "ax.set_title('Box-Cox Transformed Distribution')\n",
        "ax.legend();"
      ],
      "execution_count": null,
      "outputs": []
    },
    {
      "cell_type": "markdown",
      "metadata": {
        "id": "ZF7nziY81G0z"
      },
      "source": [
        "## 2.8 Korelasi"
      ]
    },
    {
      "cell_type": "code",
      "metadata": {
        "id": "09WVO88Ar3-L"
      },
      "source": [
        "plt.figure(figsize=(10, 10))\n",
        "sns.heatmap(df_stats.corr(), annot=True,cmap=\"YlGnBu\")"
      ],
      "execution_count": null,
      "outputs": []
    },
    {
      "cell_type": "code",
      "metadata": {
        "id": "iHc085ji1Pm4"
      },
      "source": [
        "# Model Data Unspervised"
      ],
      "execution_count": null,
      "outputs": []
    },
    {
      "cell_type": "markdown",
      "metadata": {
        "id": "YUDXPzDG1XzS"
      },
      "source": [
        "# 3. Modeling"
      ]
    },
    {
      "cell_type": "markdown",
      "metadata": {
        "id": "CuTRHsXZ11o_"
      },
      "source": [
        "## 3.1 Unspervised "
      ]
    },
    {
      "cell_type": "code",
      "metadata": {
        "id": "d1emKiLh2FyR"
      },
      "source": [
        "X = df_stats[['total','kepadatan']]\n",
        "kmeans = KMeans(n_clusters=2, random_state=0).fit(X)"
      ],
      "execution_count": null,
      "outputs": []
    },
    {
      "cell_type": "code",
      "metadata": {
        "id": "XsS7i2ZC2_az"
      },
      "source": [
        "fig, ax = plt.subplots(figsize=(10, 5))\n",
        "ax.scatter(X['total'], X['kepadatan'], c=kmeans.labels_)\n",
        "ax.set_xlabel('positive')\n",
        "ax.set_ylabel('kepadatan')\n",
        "ax.set_title('kluster');"
      ],
      "execution_count": null,
      "outputs": []
    },
    {
      "cell_type": "markdown",
      "metadata": {
        "id": "XZ8wcDjS9dYN"
      },
      "source": [
        "### 3.1.1. kluster terbaik"
      ]
    },
    {
      "cell_type": "code",
      "metadata": {
        "id": "2zPBidqD5Yls"
      },
      "source": [
        "distortions = []\n",
        "K = range(1,10)\n",
        "for k in K:\n",
        "    kmeanModel = KMeans(n_clusters=k)\n",
        "    kmeanModel.fit(X)\n",
        "    distortions.append(kmeanModel.inertia_)\n",
        "\n",
        "plt.figure(figsize=(10,5))\n",
        "plt.plot(K, distortions, 'bx-')\n",
        "plt.xlabel('k')\n",
        "plt.ylabel('Distortion')\n",
        "plt.title('The Elbow Method showing the optimal k')\n",
        "plt.show()"
      ],
      "execution_count": null,
      "outputs": []
    },
    {
      "cell_type": "code",
      "metadata": {
        "id": "NYvAPpZO74ZD"
      },
      "source": [
        "k = range(2,10)\n",
        "score=[]\n",
        "for n_cluster in k:\n",
        "    kmeans = KMeans(n_clusters=n_cluster).fit(X)\n",
        "    score.append(silhouette_score(X,kmeans.labels_))\n",
        "plt.figure(figsize=(10,5))\n",
        "plt.plot(k, score, 'o-')\n",
        "plt.xlabel(\"Value for k\")\n",
        "plt.ylabel(\"Silhouette score\")\n",
        "plt.title('Silhouette Method')\n",
        "plt.show()"
      ],
      "execution_count": null,
      "outputs": []
    },
    {
      "cell_type": "markdown",
      "metadata": {
        "id": "rJLfyr9f2ITU"
      },
      "source": [
        "## 3.2 supervised"
      ]
    },
    {
      "cell_type": "markdown",
      "metadata": {
        "id": "cKFaijjdysoL"
      },
      "source": [
        "![image.png](data:image/png;base64,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)"
      ]
    },
    {
      "cell_type": "code",
      "metadata": {
        "id": "oELsDZEt2NUt"
      },
      "source": [
        "df1.head()"
      ],
      "execution_count": null,
      "outputs": []
    },
    {
      "cell_type": "code",
      "metadata": {
        "id": "JVJhOMVSxB0N"
      },
      "source": [
        "sns.pairplot(df1, hue=\"class\",palette='tab10')"
      ],
      "execution_count": null,
      "outputs": []
    },
    {
      "cell_type": "code",
      "metadata": {
        "id": "XaPvqoVkDEd1"
      },
      "source": [
        "df1['class'].value_counts().plot(figsize=(5,5),kind='pie', autopct = \"%.1f%%\")"
      ],
      "execution_count": null,
      "outputs": []
    },
    {
      "cell_type": "code",
      "metadata": {
        "id": "bKIdUGCb_Jmw"
      },
      "source": [
        "# memisahkan X dan y\n",
        "X = df1.drop(['class'], axis=1)\n",
        "#Encoding class\n",
        "y=pd.factorize(df1['class'])[0]\n",
        "y=pd.DataFrame(y,columns=['class'])"
      ],
      "execution_count": null,
      "outputs": []
    },
    {
      "cell_type": "code",
      "metadata": {
        "id": "TwLH-8DiAlXx"
      },
      "source": [
        "#split data\n",
        "X_train, X_test, y_train, y_test = train_test_split(X, y, random_state=0, test_size=0.3)"
      ],
      "execution_count": null,
      "outputs": []
    },
    {
      "cell_type": "markdown",
      "metadata": {
        "id": "u3CJ2os5_B3x"
      },
      "source": [
        "### 3.2.1 Decision Tree\n"
      ]
    },
    {
      "cell_type": "code",
      "metadata": {
        "id": "lnBlm_uv-59t"
      },
      "source": [
        "dtree1 = DecisionTreeClassifier()\n",
        "parameters = {'criterion':['gini', 'entropy'], 'max_depth' : [1,6,10]}\n",
        "dtree = GridSearchCV(dtree1, parameters,cv=10)#ga perlu capek2 bikin 10 model\n",
        "dtree.fit(X_train, y_train)\n",
        "y_pred = dtree.predict(X_test)"
      ],
      "execution_count": null,
      "outputs": []
    },
    {
      "cell_type": "code",
      "metadata": {
        "id": "OjTfEGmDAho4"
      },
      "source": [
        "print(\"Prediksi kelas: \", y_pred)\n",
        "print(\"Best Parameter: \", dtree.best_params_)\n",
        "print(\"Train set Accuracy: \", accuracy_score(y_train, dtree.predict(X_train)))\n",
        "print(\"Test set Accuracy: \", accuracy_score(y_test, y_pred))"
      ],
      "execution_count": null,
      "outputs": []
    },
    {
      "cell_type": "code",
      "metadata": {
        "id": "My0F1UuGA7zV"
      },
      "source": [
        "from sklearn.externals import joblib\n",
        "\n",
        "# save best model to current working directory\n",
        "joblib.dump(dtree, \"modeldtree.pkl\")\n",
        "# load from file and predict using the best configs found in the CV step\n",
        "model_tree = joblib.load(\"/content/modeldtree.pkl\" )"
      ],
      "execution_count": null,
      "outputs": []
    },
    {
      "cell_type": "code",
      "metadata": {
        "id": "s4FPO2AmBBDh"
      },
      "source": [
        "#cara kerja decision tree\n",
        "fig, axes = plt.subplots(nrows = 1,ncols = 1,figsize = (5,5), dpi=300)\n",
        "names=list(X.columns)\n",
        "tn= ['iris setosa', 'iris versicolor', 'iris virginica']\n",
        "tree.plot_tree(dtree.best_estimator_,\n",
        "                     feature_names = names, \n",
        "                     class_names=tn,\n",
        "                     filled = True)\n",
        "fig.savefig('tree.png')"
      ],
      "execution_count": null,
      "outputs": []
    },
    {
      "cell_type": "markdown",
      "metadata": {
        "id": "0TUEQQv3BvJv"
      },
      "source": [
        "### 3.2.2 kNN"
      ]
    },
    {
      "cell_type": "code",
      "metadata": {
        "id": "rK1SIBVJBBqc"
      },
      "source": [
        "clf1 = KNeighborsClassifier()\n",
        "parameters = {'n_neighbors':[1,2,3,4,5,6,7,8,9],'weights':['uniform', 'distance'], 'algorithm':['auto','ball_tree','kd_tree']}\n",
        "clf = GridSearchCV(clf1, parameters,cv=10)\n",
        "clf.fit(X_train, y_train)\n",
        "y_pred = clf.predict(X_test)"
      ],
      "execution_count": null,
      "outputs": []
    },
    {
      "cell_type": "code",
      "metadata": {
        "id": "sGO23-ATB_z0"
      },
      "source": [
        "print(\"Prediksi kelas: \", y_pred)\n",
        "print(\"Best Parameter: \", clf.best_params_)\n",
        "print(\"Train set Accuracy: \", accuracy_score(y_train, clf.predict(X_train)))\n",
        "print(\"Test set Accuracy: \", accuracy_score(y_test, y_pred))\n",
        "#artinya kenapa akurasi tes > training karena bisa underfitting atau overfitting"
      ],
      "execution_count": null,
      "outputs": []
    },
    {
      "cell_type": "markdown",
      "metadata": {
        "id": "zDMwEsLRCMWE"
      },
      "source": [
        "# 4. Evaluating Model"
      ]
    },
    {
      "cell_type": "code",
      "metadata": {
        "id": "oW6OXbycCTZe"
      },
      "source": [
        "print(classification_report(y_test, y_pred, target_names=tn))"
      ],
      "execution_count": null,
      "outputs": []
    },
    {
      "cell_type": "code",
      "metadata": {
        "id": "JPF4ov6LCZ3u"
      },
      "source": [
        "# Confusion Matrix\n",
        "plt.style.use('default')\n",
        "def plot_confusion_matrix(y_test, y_pred, classes,\n",
        "                          title=None,\n",
        "                          cmap=plt.cm.viridis):\n",
        "\n",
        "    cm = confusion_matrix(y_test, y_pred)\n",
        "\n",
        "    fig, ax = plt.subplots(figsize=(5,5))\n",
        "    im = ax.imshow(cm, interpolation='nearest', cmap=cmap)\n",
        "    ax.figure.colorbar(im, ax=ax)\n",
        "    ax.set(xticks=np.arange(cm.shape[1]),\n",
        "           yticks=np.arange(cm.shape[0]),\n",
        "           xticklabels=classes, yticklabels=classes,\n",
        "           title=title,\n",
        "           ylabel='True label',\n",
        "           xlabel='Predicted label')\n",
        "\n",
        "    plt.setp(ax.get_xticklabels(), rotation=45, ha=\"right\",\n",
        "             rotation_mode=\"anchor\")\n",
        "    fmt = 'd'\n",
        "    thresh = cm.max() / 2.\n",
        "    for i in range(cm.shape[0]):\n",
        "        for j in range(cm.shape[1]):\n",
        "            ax.text(j, i, format(cm[i, j], fmt),\n",
        "                    ha=\"center\", va=\"center\",\n",
        "                    color=\"black\" if cm[i, j] > thresh else \"white\")\n",
        "    fig.tight_layout()\n",
        "    return ax\n",
        "\n",
        "np.set_printoptions(precision=2)\n",
        "plot_confusion_matrix(y_test, y_pred, classes=tn,\n",
        "                      title='Confusion matrix')\n",
        "\n",
        "plt.show()"
      ],
      "execution_count": null,
      "outputs": []
    },
    {
      "cell_type": "markdown",
      "metadata": {
        "id": "pLidfCjoF03r"
      },
      "source": [
        "# Thanks \n",
        "Feel free to contact me:\n",
        "\n",
        "\n",
        "*   Email: linggaajiandika@gmail.com\n",
        "*   Phone: +6281223228410\n",
        "*   linkedIn: https://www.linkedin.com/in/linggaajiandika/\n",
        "*   Github: Lingga Aji Andika / linggaajiandika.github.io\n",
        "*   instagram: @linggaajiandika\n",
        "*   YT: Lingga Aji Andika\n",
        "\n",
        "\n",
        "dan jangan lupa gabung Data Science Indonesia 😁  http://datascience.or.id/\n",
        "\n",
        "\n",
        "\n"
      ]
    }
  ]
}