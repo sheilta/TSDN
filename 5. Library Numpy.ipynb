{
 "cells": [
  {
   "cell_type": "markdown",
   "metadata": {},
   "source": [
    "# Variabel\n",
    "\n",
    "Diketahui beberapa list berikut:   \n",
    "1. ipk = [3.05, 3.45, 3.33, 2.90, 3.10, 3.23, 3.80, 3.74, 3.67, 3.39, 3.41, 3.51, 3.21, 3.55, 3.34, 3.67, 3.77, 3.00, 3.25, 2.78]   \n",
    "2. sks = [88, 89, 90, 100, 80, 78, 90, 90, 92, 97, 95, 80, 88, 102, 87, 84, 85, 89, 101, 80]\n",
    "3. konsentrasi = konsentrasi = [\"AK\", \"AK\", \"DS\", \"DS\", \"AK\", \"AK\", \"MK\", \"MK\", \"DS\", \"DS\", \"IN\", \"IN\", \"BS\", \"BS\", \"MK\", \"MK\", \"BS\", \"BS\", \"IN\", \"IN\"]"
   ]
  },
  {
   "cell_type": "code",
   "execution_count": 103,
   "metadata": {},
   "outputs": [],
   "source": [
    "# definisi variabel\n",
    "ipk = [3.05, 3.45, 3.33, 2.90, 3.10, 3.23, 3.80, 3.74, 3.67, 3.39, 3.41, 3.51, 3.21, 3.55, 3.34, 3.67, 3.77, 3.00, 3.25, 2.78]\n",
    "sks = [88, 89, 90, 100, 80, 78, 90, 90, 92, 97, 95, 80, 88, 102, 87, 84, 85, 89, 101, 80]\n",
    "konsentrasi = [\"AK\", \"AK\", \"DS\", \"DS\", \"AK\", \"AK\", \"MK\", \"MK\", \"DS\", \"DS\", \"IN\", \"IN\", \"BS\", \"BS\", \"MK\", \"MK\", \"BS\", \"BS\", \"IN\", \"IN\"]"
   ]
  },
  {
   "cell_type": "code",
   "execution_count": null,
   "metadata": {},
   "outputs": [],
   "source": [
    "# panjang dari setiap variabel\n"
   ]
  },
  {
   "cell_type": "code",
   "execution_count": 104,
   "metadata": {},
   "outputs": [
    {
     "name": "stdout",
     "output_type": "stream",
     "text": [
      "[3.0, 3.5, 4.0, 4.0, 4.0, 3.0, 3.5, 2.5, 2.8, 2.8, 3.0, 3.5, 3.8, 3.8, 3.8, 2.5, 4.0, 4.0, 3.8, 4.0]\n"
     ]
    }
   ],
   "source": [
    "# diperoleh nilai mata kuliah baru dengan bobot yang tersimpan dalam variabel bobot berikut\n",
    "bobot = [3.0, 3.5, 4.0, 4.0, 4.0, 3.0, 3.5, 2.5, 2.8, 2.8, 3.0, 3.5, 3.8, 3.8, 3.8, 2.5, 4.0, 4.0, 3.8, 4.0]\n",
    "print(bobot)"
   ]
  },
  {
   "cell_type": "code",
   "execution_count": 121,
   "metadata": {},
   "outputs": [],
   "source": [
    "# sks mata kuliah tersebut adalah 3. Hitung total bobot dengan mengalikan list bobot dengan 3. Simpan dalam variabel tot_bobot\n",
    "tot_bobot = bobot*3\n"
   ]
  },
  {
   "cell_type": "code",
   "execution_count": 122,
   "metadata": {},
   "outputs": [
    {
     "name": "stdout",
     "output_type": "stream",
     "text": [
      "[3.0, 3.5, 4.0, 4.0, 4.0, 3.0, 3.5, 2.5, 2.8, 2.8, 3.0, 3.5, 3.8, 3.8, 3.8, 2.5, 4.0, 4.0, 3.8, 4.0, 3.0, 3.5, 4.0, 4.0, 4.0, 3.0, 3.5, 2.5, 2.8, 2.8, 3.0, 3.5, 3.8, 3.8, 3.8, 2.5, 4.0, 4.0, 3.8, 4.0, 3.0, 3.5, 4.0, 4.0, 4.0, 3.0, 3.5, 2.5, 2.8, 2.8, 3.0, 3.5, 3.8, 3.8, 3.8, 2.5, 4.0, 4.0, 3.8, 4.0]\n"
     ]
    }
   ],
   "source": [
    "# print out tot_bobot\n",
    "print(tot_bobot)"
   ]
  },
  {
   "cell_type": "markdown",
   "metadata": {
    "collapsed": true
   },
   "source": [
    "### apakah hasilnya sesuai yang diinginkan? "
   ]
  },
  {
   "cell_type": "markdown",
   "metadata": {},
   "source": [
    "# Menggunakan package numpy\n",
    "\n",
    "Digunakan untuk manipulasi array secara mudah dan cepat. Daftar fungsi yang dapat digunakan dalam library numpy dapat diakses di [Numpy Array Manipulation](https://www.tutorialspoint.com/numpy/numpy_array_manipulation.htm). NumPy bekerja dengan array yang disebut ndarray. Dimensi array adalah tingkatan kedalaman dari suatu array. \n",
    "\n"
   ]
  },
  {
   "cell_type": "code",
   "execution_count": 1,
   "metadata": {},
   "outputs": [],
   "source": [
    "# import numpy sebagai np\n",
    "import numpy as np"
   ]
  },
  {
   "cell_type": "markdown",
   "metadata": {},
   "source": [
    "### 1. Membuat N-Dimensional Array"
   ]
  },
  {
   "cell_type": "code",
   "execution_count": null,
   "metadata": {},
   "outputs": [],
   "source": [
    "# Membuat 0-D Array\n",
    "\n",
    "a = np.array(23)\n",
    "print(a)"
   ]
  },
  {
   "cell_type": "code",
   "execution_count": null,
   "metadata": {},
   "outputs": [],
   "source": [
    "# Membuat 1-D array\n",
    "\n",
    "b = np.array([1, 4, 6, 9])\n",
    "print(b)"
   ]
  },
  {
   "cell_type": "code",
   "execution_count": null,
   "metadata": {},
   "outputs": [],
   "source": [
    "# Membuat 2-D array\n",
    "\n",
    "c = np.array([[2, 3, 5], [7, 11, 13]])\n",
    "print(c)"
   ]
  },
  {
   "cell_type": "code",
   "execution_count": null,
   "metadata": {},
   "outputs": [],
   "source": [
    "# Membuat 3-D array\n",
    "\n",
    "d = np.array([[[1, 2, 3], [4, 5, 6], [7, 8, 9]]])\n",
    "print(d)"
   ]
  },
  {
   "cell_type": "code",
   "execution_count": null,
   "metadata": {},
   "outputs": [],
   "source": [
    "# Membuat n-D array dengan numpy.array(array, ndmin = n)\n",
    "\n",
    "e = np.array([[1, 2, 3], [4, 5, 6]], ndmin = 5)\n",
    "print(e)"
   ]
  },
  {
   "cell_type": "code",
   "execution_count": null,
   "metadata": {},
   "outputs": [],
   "source": [
    "# Mengecek dimensi array dengan ndim\n",
    "\n",
    "print(a.ndim)\n",
    "print(b.ndim)\n",
    "print(c.ndim)\n",
    "print(d.ndim)\n",
    "print(e.ndim)"
   ]
  },
  {
   "cell_type": "markdown",
   "metadata": {},
   "source": [
    "### 2. Indeks Array\n",
    "\n",
    "Indeks array pada dasarnya digunakan untuk memanggil elemen di dalam array. "
   ]
  },
  {
   "cell_type": "code",
   "execution_count": 124,
   "metadata": {},
   "outputs": [
    {
     "name": "stdout",
     "output_type": "stream",
     "text": [
      "1\n"
     ]
    }
   ],
   "source": [
    "# Memanggil elemen pertama pada 1-D array\n",
    "print(b[0])"
   ]
  },
  {
   "cell_type": "code",
   "execution_count": 125,
   "metadata": {},
   "outputs": [
    {
     "name": "stdout",
     "output_type": "stream",
     "text": [
      "[11 12 13]\n"
     ]
    }
   ],
   "source": [
    "# Memanggil array pertama pada 2-D array\n",
    "arr = np.array([[11, 12, 13], [14, 15, 16], [17, 18, 19]])\n",
    "print(arr[0])"
   ]
  },
  {
   "cell_type": "code",
   "execution_count": 126,
   "metadata": {},
   "outputs": [
    {
     "name": "stdout",
     "output_type": "stream",
     "text": [
      "18\n"
     ]
    }
   ],
   "source": [
    "# Memanggil elemen kedua pada array ketiga 2-D array\n",
    "\n",
    "print(arr[2, 1])"
   ]
  },
  {
   "cell_type": "markdown",
   "metadata": {},
   "source": [
    "### 3. Slicing Array\n",
    "\n",
    "Slicing (memotong) maksudnya adalah mengambil elemen dari satu indeks ke indeks lain. Dengan kata lain, mengambil beberapa elemen. Slicing dapat dilakukan dengan menuliskan `[mulai : akhir]` atau `[mulai : akhir : langkah]`.   \n",
    "\n",
    "- Jika `mulai` tidak dituliskan, maka dianggap 0\n",
    "- Jika `akhir` tidak dituliskan, maka dianggap hingga panjang array\n",
    "- Jika `langkah` tidak dituliskan, maka dianggap 1"
   ]
  },
  {
   "cell_type": "code",
   "execution_count": null,
   "metadata": {},
   "outputs": [],
   "source": [
    "arr = np.array([12, 15, 17, 20, 23, 34, 56, 78, 100, 56, 88])\n",
    "\n",
    "# Mengambil elemen kedua hingga keenam (15, 17, 20, 23, 34)\n",
    "arr[1:6]"
   ]
  },
  {
   "cell_type": "code",
   "execution_count": null,
   "metadata": {},
   "outputs": [],
   "source": [
    "arr = np.array([[10, 11, 12], [13, 14, 15], [16, 17, 18], [19, 20, 21]], ndmin=2)\n",
    "\n",
    "# Mengambil array pertama dan kedua (indeks 0, 1) beserta elemen pertama dan kedua (indeks 0, 1)\n",
    "arr[0:2, 0:2]"
   ]
  },
  {
   "cell_type": "markdown",
   "metadata": {},
   "source": [
    "### 4. Menggabungkan\n",
    "\n",
    "Menggabungkan (join) array. Gunakan `np.concatenate`"
   ]
  },
  {
   "cell_type": "code",
   "execution_count": 128,
   "metadata": {},
   "outputs": [
    {
     "name": "stdout",
     "output_type": "stream",
     "text": [
      "[ 1  2  3  4 34 56 78 90]\n"
     ]
    }
   ],
   "source": [
    "arr1 = np.array([1, 2, 3, 4])\n",
    "arr2 = np.array([34, 56, 78, 90])\n",
    "\n",
    "arr = np.concatenate((arr1, arr2))\n",
    "print(arr)"
   ]
  },
  {
   "cell_type": "code",
   "execution_count": 130,
   "metadata": {},
   "outputs": [
    {
     "name": "stdout",
     "output_type": "stream",
     "text": [
      "[[1 2]\n",
      " [3 4]\n",
      " [5 6]\n",
      " [7 8]]\n",
      "\n",
      "\n",
      "[[1 2 5 6]\n",
      " [3 4 7 8]]\n"
     ]
    }
   ],
   "source": [
    "arr1 = np.array([[1, 2], [3, 4]])\n",
    "\n",
    "arr2 = np.array([[5, 6], [7, 8]])\n",
    "\n",
    "# Jika axis = 0\n",
    "arr3 = np.concatenate((arr1, arr2), axis=0)\n",
    "print(arr3)\n",
    "\n",
    "print(\"\\n\")\n",
    "\n",
    "# Jika axis = 1\n",
    "arr4 = np.concatenate((arr1, arr2), axis=1)\n",
    "print(arr4)"
   ]
  },
  {
   "cell_type": "markdown",
   "metadata": {},
   "source": [
    "#### Menggabungkan array dengan stack\n",
    "\n",
    "Kita dapat melakukan penggabungan array pada axis yang baru dengan fungsi stack."
   ]
  },
  {
   "cell_type": "code",
   "execution_count": 108,
   "metadata": {},
   "outputs": [
    {
     "name": "stdout",
     "output_type": "stream",
     "text": [
      "[[1 2 3]\n",
      " [4 5 6]]\n"
     ]
    }
   ],
   "source": [
    "# Cobalah menggabungkan dua array berdimensi 1 berikut dengan stack\n",
    "arr1 = np.array([1, 2, 3])\n",
    "\n",
    "arr2 = np.array([4, 5, 6])\n",
    "\n",
    "arr = np.stack((arr1, arr2), axis = 0)\n",
    "\n",
    "print(arr)"
   ]
  },
  {
   "cell_type": "code",
   "execution_count": 109,
   "metadata": {},
   "outputs": [
    {
     "name": "stdout",
     "output_type": "stream",
     "text": [
      "[1 2 3 4 5 6]\n"
     ]
    }
   ],
   "source": [
    "# Coba bandingkan apabila penggabungan dilakukan dengan menggunakan concatenate. Apa yang terjadi?\n",
    "arr1 = np.array([1, 2, 3])\n",
    "\n",
    "arr2 = np.array([4, 5, 6])\n",
    "\n",
    "arr = np.concatenate((arr1, arr2), axis = 0)\n",
    "\n",
    "print(arr)"
   ]
  },
  {
   "cell_type": "markdown",
   "metadata": {},
   "source": [
    "### 5. Random\n",
    "\n",
    "Untuk merandim bilangan, kita import modul random dari numpy. "
   ]
  },
  {
   "cell_type": "code",
   "execution_count": 3,
   "metadata": {},
   "outputs": [],
   "source": [
    "from numpy import random"
   ]
  },
  {
   "cell_type": "code",
   "execution_count": 13,
   "metadata": {},
   "outputs": [
    {
     "name": "stdout",
     "output_type": "stream",
     "text": [
      "[[108  35  67]\n",
      " [127 112  70]\n",
      " [142 169 162]\n",
      " [148 166 199]]\n"
     ]
    }
   ],
   "source": [
    "# Merandom bilangan bulat randint(low, high=None, size=None, dtype='l')\n",
    "\n",
    "\n",
    "x = random.randint(10, 200, size = (4, 3))\n",
    "\n",
    "print(x)"
   ]
  },
  {
   "cell_type": "code",
   "execution_count": 5,
   "metadata": {},
   "outputs": [
    {
     "data": {
      "text/plain": [
       "2"
      ]
     },
     "execution_count": 5,
     "metadata": {},
     "output_type": "execute_result"
    }
   ],
   "source": [
    "x.ndim"
   ]
  },
  {
   "cell_type": "code",
   "execution_count": 132,
   "metadata": {},
   "outputs": [
    {
     "name": "stdout",
     "output_type": "stream",
     "text": [
      "[0.02047438 0.41538629 0.73813623 0.70348313 0.06486392 0.00789082\n",
      " 0.59261702 0.58642279 0.87479999 0.37658674]\n"
     ]
    }
   ],
   "source": [
    "# Merandom bilangan diantara 0 dan 1 rand(10)\n",
    "x = random.rand(10)\n",
    "\n",
    "print(x)"
   ]
  },
  {
   "cell_type": "code",
   "execution_count": 133,
   "metadata": {},
   "outputs": [],
   "source": [
    "? random.rand()"
   ]
  },
  {
   "cell_type": "markdown",
   "metadata": {},
   "source": [
    "## Latihan"
   ]
  },
  {
   "cell_type": "code",
   "execution_count": null,
   "metadata": {},
   "outputs": [],
   "source": [
    "# bentuklah array bobot, simpan dalam variabel np_bobot\n",
    "np_bobot=np.array(None)\n",
    "print(None)"
   ]
  },
  {
   "cell_type": "code",
   "execution_count": null,
   "metadata": {},
   "outputs": [],
   "source": [
    "# Lakukan pengalian np_bobot dengan 3, simpan dalam tot_bobot. Print hasil tot_bobot\n",
    "tot_bobot=None\n",
    "print(None)"
   ]
  },
  {
   "cell_type": "code",
   "execution_count": null,
   "metadata": {},
   "outputs": [],
   "source": [
    "# ubah ipk dan sks menjadi array, simpan dalam np_ipk dan np_sks\n",
    "np_ipk = np.array(ipk)\n",
    "np_sks = np.array(sks)"
   ]
  },
  {
   "cell_type": "code",
   "execution_count": null,
   "metadata": {},
   "outputs": [],
   "source": [
    "# hitung ipk baru dengan penambahan nilai tersebut\n",
    "np_ipk_new = None\n",
    "print(np_ipk_new)"
   ]
  },
  {
   "cell_type": "code",
   "execution_count": null,
   "metadata": {},
   "outputs": [],
   "source": [
    "# variabel mahasiswa\n",
    "mahasiswa = [[3.05,88],[3.45,89],[3.33,90],[3.10,100],[3.23,80],[3.80,78],[3.74,90],[3.67,90],[3.39,92],[3.41,97],[3.51,95],[3.21,80],[3.55,88]]\n",
    "print(type(mahasiswa))"
   ]
  },
  {
   "cell_type": "code",
   "execution_count": null,
   "metadata": {},
   "outputs": [],
   "source": [
    "# ubah list mahasiswa dalam array, simpan dalam variabel np_mahasiswa\n",
    "np_mahasiswa = np.array(None)\n",
    "print(np_mahasiswa)"
   ]
  },
  {
   "cell_type": "code",
   "execution_count": null,
   "metadata": {},
   "outputs": [],
   "source": [
    "# Berapakah ukuran array mahasiswa?\n",
    "print(None)"
   ]
  },
  {
   "cell_type": "code",
   "execution_count": null,
   "metadata": {},
   "outputs": [],
   "source": [
    "# tampilkan ipk dan sks mahasiswa ke 10\n",
    "print(None)"
   ]
  },
  {
   "cell_type": "code",
   "execution_count": null,
   "metadata": {},
   "outputs": [],
   "source": [
    "# tampilkan semua ipk\n",
    "print(None)"
   ]
  },
  {
   "cell_type": "code",
   "execution_count": null,
   "metadata": {},
   "outputs": [],
   "source": [
    "# tambahkan data baru ipk 3.45 dengan sks 102 dalam np_mahasiswa\n",
    "np.append(np_mahasiswa, [[..., ...]], axis=0)"
   ]
  },
  {
   "cell_type": "code",
   "execution_count": null,
   "metadata": {},
   "outputs": [],
   "source": [
    "# kurangkan semua elemen pada ipk dengan 0.2, dan tambahkan semua elemen pada sks dengan 3\n",
    "np_mahasiswa + "
   ]
  },
  {
   "cell_type": "code",
   "execution_count": null,
   "metadata": {},
   "outputs": [],
   "source": [
    "# jadikan array konsentrasi\n",
    "np_ipk = np.array(ipk)\n",
    "np_sks = np.array(sks)\n",
    "np_konsentrasi = np.array(konsentrasi)"
   ]
  },
  {
   "cell_type": "code",
   "execution_count": null,
   "metadata": {},
   "outputs": [],
   "source": [
    "# print tipe dari np_konsentrasi\n",
    "print(type(None))"
   ]
  },
  {
   "cell_type": "code",
   "execution_count": null,
   "metadata": {},
   "outputs": [],
   "source": [
    "# sesuai dengan urutan, pilihlah ipk mahasiswa yang mengambil konsentrasi industri. Simpan dalam variabel industri\n",
    "industri = None\n",
    "\n",
    "# print variabel industri\n",
    "print(industri)"
   ]
  },
  {
   "cell_type": "code",
   "execution_count": null,
   "metadata": {},
   "outputs": [],
   "source": [
    "# sesuai dengan urutan, pilihlah ipk mahasiswa yang tidak mengambil industri. Simpan dalam variabel lain_industri\n",
    "lain_industri = None\n",
    "\n",
    "# print variabel lain_industri\n",
    "print(lain_industri)"
   ]
  },
  {
   "cell_type": "code",
   "execution_count": null,
   "metadata": {},
   "outputs": [],
   "source": [
    "print(\"Rata-rata ipk industri: \"+str(None))\n",
    "print(\"Rata-rata ipk bukan industri: \"+str(None))"
   ]
  },
  {
   "cell_type": "code",
   "execution_count": null,
   "metadata": {},
   "outputs": [],
   "source": []
  }
 ],
 "metadata": {
  "kernelspec": {
   "display_name": "Python 3",
   "language": "python",
   "name": "python3"
  },
  "language_info": {
   "codemirror_mode": {
    "name": "ipython",
    "version": 3
   },
   "file_extension": ".py",
   "mimetype": "text/x-python",
   "name": "python",
   "nbconvert_exporter": "python",
   "pygments_lexer": "ipython3",
   "version": "3.7.0"
  }
 },
 "nbformat": 4,
 "nbformat_minor": 2
}
