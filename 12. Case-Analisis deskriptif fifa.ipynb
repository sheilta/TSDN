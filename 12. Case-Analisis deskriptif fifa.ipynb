{
 "cells": [
  {
   "cell_type": "markdown",
   "source": [
    "# Analisis Deskriptif\n",
    "\n",
    "Statistika deskriptif adalah metode-metode yang berkaitan dengan pengumpulan dan penyajian suatu gugus data sehingga memberikan informasi yang berguna. Pengklasifikasian menjadi statistika deskriptif dan statistika inferensi dilakukan berdasarkan aktivitas yang dilakukan. Statistika deskriptif hanya memberikan informasi mengenai data yang dipunyai dan sama sekali tidak menarik inferensia atau kesimpulan apapun tentang gugus induknya yang lebih besar. Contoh statistika deskriptif yang sering muncul adalah, tabel, diagram, grafik, dan besaran-besaran lain di majalah dan koran-koran. Dengan Statistika deskriptif, kumpulan data yang diperoleh akan tersaji dengan ringkas dan rapi serta dapat memberikan informasi inti dari kumpulan data yang ada. Informasi yang dapat diperoleh dari statistika deskriptif ini antara lain ukuran pemusatan data, ukuran penyebaran data, serta kecenderungan suatu gugus data.\n",
    "\n",
    "Sumber: [wikipedia](https://id.wikipedia.org/wiki/Statistika_deskriptif)"
   ],
   "metadata": {}
  },
  {
   "cell_type": "code",
   "execution_count": null,
   "source": [
    "import numpy as np\n",
    "import pandas as pd\n",
    "import seaborn as sns\n",
    "import matplotlib.pyplot as plt"
   ],
   "outputs": [],
   "metadata": {}
  },
  {
   "cell_type": "markdown",
   "source": [
    "## Loading data"
   ],
   "metadata": {}
  },
  {
   "cell_type": "code",
   "execution_count": null,
   "source": [
    "fifa = pd.read_csv(\"fifa19.csv\")\n",
    "fifa.head()"
   ],
   "outputs": [],
   "metadata": {}
  },
  {
   "cell_type": "markdown",
   "source": [
    "## Sneakpeak Data"
   ],
   "metadata": {}
  },
  {
   "cell_type": "code",
   "execution_count": null,
   "source": [
    "fifa.info()"
   ],
   "outputs": [],
   "metadata": {}
  },
  {
   "cell_type": "code",
   "execution_count": null,
   "source": [
    "# Kolom di data frame fifa\n",
    "fifa.columns"
   ],
   "outputs": [],
   "metadata": {}
  },
  {
   "cell_type": "code",
   "execution_count": null,
   "source": [
    "# Contoh menghitung pemain berdasarkan Nationality\n",
    "fifa.Nationality.value_counts()"
   ],
   "outputs": [],
   "metadata": {}
  },
  {
   "cell_type": "markdown",
   "source": [
    "## Data Fifa untuk Argentina"
   ],
   "metadata": {}
  },
  {
   "cell_type": "code",
   "execution_count": null,
   "source": [
    "fifa_argentina = fifa[fifa.Nationality == \"Argentina\"]\n",
    "fifa_argentina.head()"
   ],
   "outputs": [],
   "metadata": {}
  },
  {
   "cell_type": "code",
   "execution_count": null,
   "source": [
    "fifa_argentina[\"Work Rate\"].value_counts()"
   ],
   "outputs": [],
   "metadata": {}
  },
  {
   "cell_type": "code",
   "execution_count": null,
   "source": [
    "# Menampilkan jumlah pemain berdaasrkan Club \n",
    "fifa_argentina.Club.value_counts()"
   ],
   "outputs": [],
   "metadata": {}
  },
  {
   "cell_type": "markdown",
   "source": [
    "## Plot Data"
   ],
   "metadata": {}
  },
  {
   "cell_type": "code",
   "execution_count": null,
   "source": [
    "# Membuat plot Age vs Wage, dengan pembatasan Age >=30\n",
    "sns.catplot(x=\"Age\", y=\"Wage\", data=fifa_argentina.query(\"Age >= 30\"))"
   ],
   "outputs": [],
   "metadata": {}
  },
  {
   "cell_type": "markdown",
   "source": [
    "Berdasarkan catplot:\n",
    "1. Dalam rentang umur 30-40 tahun, pemain Argentina yang memiliki gaji tinggi ada di rentang umur 30-34. \n",
    "2. Semakin tua seorang pemain bola, semakin menurun gaji yang diterimanya"
   ],
   "metadata": {}
  },
  {
   "cell_type": "code",
   "execution_count": null,
   "source": [
    "# Membuat plot Age vs Potential\n",
    "# untuk kind dapat diganti sesuai keinginan, contoh box, boxen\n",
    "plt.figure(figsize=(70,60))\n",
    "sns.catplot(x=\"Age\", y=\"Potential\", data=fifa_argentina, kind=\"box\")"
   ],
   "outputs": [],
   "metadata": {}
  },
  {
   "cell_type": "code",
   "execution_count": null,
   "source": [
    "# Membuat chart untuk work rate vs potential dengan pengelompokkan berdasar kategori preferred foot\n",
    "# set_xticklabels untuk memutar label sumbu-X\n",
    "chart = sns.catplot(x=\"Work Rate\", y=\"Potential\", hue=\"Preferred Foot\", data=fifa_argentina, kind=\"swarm\")\n",
    "chart.set_xticklabels(rotation=90)"
   ],
   "outputs": [],
   "metadata": {}
  },
  {
   "cell_type": "markdown",
   "source": [
    "Work rate=menyerang/bertahan"
   ],
   "metadata": {}
  },
  {
   "cell_type": "markdown",
   "source": [
    "Berdasarkan catplot:\n",
    "1. Lebih banyak pemain Argentina yang preferred foot-nya kaki kanan, dibanding kaki kiri\n",
    "2. Potential pemain baik preferred foot kanan maupun kiri cenderung sama. Namun, terdapat pencilan 2 pemain preferred foot kiri memiliki potential lebih tinggi."
   ],
   "metadata": {}
  },
  {
   "cell_type": "code",
   "execution_count": null,
   "source": [
    "# Membuat histogram \n",
    "# bins = 10 \n",
    "sns.distplot(fifa_argentina.Age, kde = True, bins=10)\n",
    "\n"
   ],
   "outputs": [],
   "metadata": {}
  },
  {
   "cell_type": "code",
   "execution_count": null,
   "source": [
    "sns.jointplot(x=\"Potential\", y=\"Composure\", data=fifa_argentina, kind=\"reg\");"
   ],
   "outputs": [],
   "metadata": {}
  },
  {
   "cell_type": "code",
   "execution_count": null,
   "source": [
    "with sns.axes_style(\"white\"):\n",
    "    sns.jointplot(x=\"Potential\", y=\"Composure\", data=fifa_argentina, kind=\"hex\", color=\"blue\");"
   ],
   "outputs": [],
   "metadata": {}
  },
  {
   "cell_type": "code",
   "execution_count": null,
   "source": [
    "import statistics as stat"
   ],
   "outputs": [],
   "metadata": {}
  },
  {
   "cell_type": "code",
   "execution_count": null,
   "source": [
    "# Menghitung pusat data\n",
    "\n",
    "a = stat.mean(fifa_argentina.Age)\n",
    "b = stat.median(fifa_argentina.Age)"
   ],
   "outputs": [],
   "metadata": {}
  },
  {
   "cell_type": "code",
   "execution_count": null,
   "source": [
    "a, b"
   ],
   "outputs": [],
   "metadata": {}
  },
  {
   "cell_type": "code",
   "execution_count": null,
   "source": [
    "# Menghitung ukuran penyebaran data\n",
    "\n",
    "c = stat.stdev(fifa_argentina.Age)\n",
    "d = stat.variance(fifa_argentina.Age)"
   ],
   "outputs": [],
   "metadata": {}
  },
  {
   "cell_type": "code",
   "execution_count": null,
   "source": [
    "c, d"
   ],
   "outputs": [],
   "metadata": {}
  },
  {
   "cell_type": "markdown",
   "source": [
    "## Groupby aggregat"
   ],
   "metadata": {}
  },
  {
   "cell_type": "code",
   "execution_count": null,
   "source": [
    "fifa19_=fifa.groupby([\"Nationality\"]).mean()"
   ],
   "outputs": [],
   "metadata": {}
  },
  {
   "cell_type": "code",
   "execution_count": null,
   "source": [
    "fifa19_.head()"
   ],
   "outputs": [],
   "metadata": {}
  },
  {
   "cell_type": "code",
   "execution_count": null,
   "source": [
    "fifa19_.index"
   ],
   "outputs": [],
   "metadata": {}
  },
  {
   "cell_type": "code",
   "execution_count": null,
   "source": [
    "fifa19_.Age.min()"
   ],
   "outputs": [],
   "metadata": {}
  },
  {
   "cell_type": "code",
   "execution_count": null,
   "source": [
    "fifa19_[fifa19_.Age==17]"
   ],
   "outputs": [],
   "metadata": {}
  },
  {
   "cell_type": "code",
   "execution_count": null,
   "source": [],
   "outputs": [],
   "metadata": {}
  },
  {
   "cell_type": "code",
   "execution_count": null,
   "source": [
    "sns.lmplot(x=\"Composure\", y=\"Potential\", data=fifa19_, lowess=True)"
   ],
   "outputs": [],
   "metadata": {}
  },
  {
   "cell_type": "code",
   "execution_count": null,
   "source": [
    "fifa.Club.value_counts()"
   ],
   "outputs": [],
   "metadata": {}
  },
  {
   "cell_type": "code",
   "execution_count": null,
   "source": [
    "fifa_club = fifa[fifa.Club.isin([\"Wolverhampton Wanderers\", \"AS Monaco\", \"Cardiff City\", \"Borussia Dortmund\"])]"
   ],
   "outputs": [],
   "metadata": {}
  },
  {
   "cell_type": "code",
   "execution_count": null,
   "source": [
    "fifa_club.head()"
   ],
   "outputs": [],
   "metadata": {}
  },
  {
   "cell_type": "code",
   "execution_count": null,
   "source": [
    "fifa[fifa.Nationality == \"Indonesia\"]"
   ],
   "outputs": [],
   "metadata": {}
  },
  {
   "cell_type": "code",
   "execution_count": null,
   "source": [],
   "outputs": [],
   "metadata": {}
  }
 ],
 "metadata": {
  "kernelspec": {
   "name": "python3",
   "display_name": "Python 3.8.8 64-bit ('base': conda)"
  },
  "language_info": {
   "codemirror_mode": {
    "name": "ipython",
    "version": 3
   },
   "file_extension": ".py",
   "mimetype": "text/x-python",
   "name": "python",
   "nbconvert_exporter": "python",
   "pygments_lexer": "ipython3",
   "version": "3.8.8"
  },
  "interpreter": {
   "hash": "36685999ec8aad35df98a3f6876b7671b7ec32c5e9210f258cf46c6b5de5ad1a"
  }
 },
 "nbformat": 4,
 "nbformat_minor": 2
}