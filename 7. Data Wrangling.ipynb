{
 "cells": [
  {
   "cell_type": "markdown",
   "source": [
    "# Glimpse of Data Wrangling    \n",
    "\n",
    "Data wrangling adalah proses transformasi data ‘mentah’ menjadi format siap pakai dalam analisis. Data wrangling dapat berupa: filtering, combining, reshaping, dealing with missing value, dan lainnya. Berikut adalah cheatsheet untuk data wrangling [klik ini](https://pandas.pydata.org/Pandas_Cheat_Sheet.pdf). "
   ],
   "metadata": {}
  },
  {
   "cell_type": "code",
   "execution_count": null,
   "source": [
    "import numpy as np\n",
    "import pandas as pd"
   ],
   "outputs": [],
   "metadata": {}
  },
  {
   "cell_type": "code",
   "execution_count": null,
   "source": [
    "# baca data\n",
    "hrdata = pd.read_excel(\"HRDataset.xlsx\")\n",
    "hrdata.tail(10)"
   ],
   "outputs": [],
   "metadata": {}
  },
  {
   "cell_type": "markdown",
   "source": [
    "## SUBSET VARIABLE"
   ],
   "metadata": {}
  },
  {
   "cell_type": "code",
   "execution_count": null,
   "source": [
    "# select column\n",
    "\n",
    "hrdata.GenderID\n",
    "hrdata['GenderID']"
   ],
   "outputs": [],
   "metadata": {}
  },
  {
   "cell_type": "code",
   "execution_count": null,
   "source": [
    "# select multiple column\n",
    "\n",
    "hrdata[['MaritalStatusID', 'Pay Rate', 'Days Employed']].tail(10)"
   ],
   "outputs": [],
   "metadata": {}
  },
  {
   "cell_type": "code",
   "execution_count": null,
   "source": [
    "# select row with regex\n",
    "\n",
    "hrdata.filter(regex = '^Ma', axis = 1).head()"
   ],
   "outputs": [],
   "metadata": {}
  },
  {
   "cell_type": "code",
   "execution_count": null,
   "source": [
    "# column contain regex expression\n",
    "\n",
    "hrdata[hrdata[\"Employee Name\"].str.contains('^Biden')]"
   ],
   "outputs": [],
   "metadata": {}
  },
  {
   "cell_type": "markdown",
   "source": [
    "## SUMMARIZE DATA"
   ],
   "metadata": {}
  },
  {
   "cell_type": "code",
   "execution_count": null,
   "source": [
    "# Count number of rows with each unique value of variable\n",
    "\n",
    "hrdata[\"Position\"].value_counts()"
   ],
   "outputs": [],
   "metadata": {}
  },
  {
   "cell_type": "code",
   "execution_count": null,
   "source": [
    "# basic statistics for each columns\n",
    "\n",
    "hrdata.describe()"
   ],
   "outputs": [],
   "metadata": {}
  },
  {
   "cell_type": "markdown",
   "source": [
    "## HANDLE MISSING DATA     \n",
    "\n",
    "Terdapat beberapa isian yang menandakan missing value, seperti: n/a, NA, -, null, kosong. "
   ],
   "metadata": {}
  },
  {
   "cell_type": "code",
   "execution_count": null,
   "source": [
    "# Read data with missing value\n",
    "\n",
    "missing_values = [\"na\", \"NA\", \"-\", \"NULL\"]\n",
    "hrdata = pd.read_excel(\"HRDataset.xlsx\", na_values = missing_values)"
   ],
   "outputs": [],
   "metadata": {}
  },
  {
   "cell_type": "code",
   "execution_count": null,
   "source": [
    "# checking null value\n",
    "\n",
    "hrdata.isnull().any()"
   ],
   "outputs": [],
   "metadata": {}
  },
  {
   "cell_type": "code",
   "execution_count": null,
   "source": [
    "# checking NA value\n",
    "\n",
    "hrdata.isna().any()"
   ],
   "outputs": [],
   "metadata": {}
  },
  {
   "cell_type": "code",
   "execution_count": null,
   "source": [
    "# total missing value\n",
    "\n",
    "hrdata.isna().sum()"
   ],
   "outputs": [],
   "metadata": {}
  },
  {
   "cell_type": "code",
   "execution_count": null,
   "source": [
    "# Copy data frame\n",
    "\n",
    "hrdata1 = hrdata.copy()"
   ],
   "outputs": [],
   "metadata": {}
  },
  {
   "cell_type": "code",
   "execution_count": null,
   "source": [
    "hrdata[hrdata['Pay Rate'].isnull()]"
   ],
   "outputs": [],
   "metadata": {}
  },
  {
   "cell_type": "markdown",
   "source": [
    "### Hadling Missing Value    \n",
    "\n",
    "1. Menghapus dengan fungsi `df.dropna()`;\n",
    "2. Imputing dengan suatu nilai, `df.fillna(value)`. Nilai yang dimaksud dapat berupa nilai obyektif, mean, median, atau modus. "
   ],
   "metadata": {}
  },
  {
   "cell_type": "code",
   "execution_count": null,
   "source": [
    "hrdata1.dropna().shape"
   ],
   "outputs": [],
   "metadata": {}
  },
  {
   "cell_type": "markdown",
   "source": [
    "### Bagaimana mengisi missing value tersebut?"
   ],
   "metadata": {}
  },
  {
   "cell_type": "code",
   "execution_count": null,
   "source": [
    "hrdata1[hrdata1['Pay Rate'].isna()]"
   ],
   "outputs": [],
   "metadata": {}
  },
  {
   "cell_type": "code",
   "execution_count": null,
   "source": [
    "hrdata1.loc[7, 'Pay Rate'] = 55"
   ],
   "outputs": [],
   "metadata": {}
  },
  {
   "cell_type": "code",
   "execution_count": null,
   "source": [
    "hrdata1.loc[[35, 37], 'Pay Rate'] = 43"
   ],
   "outputs": [],
   "metadata": {}
  },
  {
   "cell_type": "code",
   "execution_count": null,
   "source": [
    "hrdata1.loc[65, 'Pay Rate'] = 52"
   ],
   "outputs": [],
   "metadata": {}
  },
  {
   "cell_type": "code",
   "execution_count": null,
   "source": [
    "hrdata1.iloc[[7, 35, 37, 65], :]"
   ],
   "outputs": [],
   "metadata": {}
  },
  {
   "cell_type": "markdown",
   "source": [
    "## GROUP DATA"
   ],
   "metadata": {}
  },
  {
   "cell_type": "code",
   "execution_count": null,
   "source": [
    "# grouping by column \"Position\"\n",
    "\n",
    "a = hrdata1.groupby(by = \"Position\")"
   ],
   "outputs": [],
   "metadata": {}
  },
  {
   "cell_type": "code",
   "execution_count": null,
   "source": [
    "# counting based on group\n",
    "\n",
    "a.count()"
   ],
   "outputs": [],
   "metadata": {}
  },
  {
   "cell_type": "code",
   "execution_count": null,
   "source": [
    "# median column \"Age\" based on group\n",
    "\n",
    "a['Pay Rate'].median()"
   ],
   "outputs": [],
   "metadata": {}
  },
  {
   "cell_type": "code",
   "execution_count": null,
   "source": [
    "# mean column \"Age\" based on group\n",
    "\n",
    "a[\"Age\"].mean()"
   ],
   "outputs": [],
   "metadata": {}
  },
  {
   "cell_type": "markdown",
   "source": [
    "## PLOTTING"
   ],
   "metadata": {}
  },
  {
   "cell_type": "code",
   "execution_count": null,
   "source": [
    "# Histogram\n",
    "\n",
    "hrdata1[\"Age\"].plot.hist()"
   ],
   "outputs": [],
   "metadata": {}
  },
  {
   "cell_type": "markdown",
   "source": [
    "## COMBINING DATA FRAME    \n",
    "\n",
    "Gunakan fungsi `pd.merge` untuk menggabungkan \"HRDataset.xlsx\" dengan \"hrdataset tambahan.xlsx\". Lakukan merge kanan, kiri, inner, outer. Bandingkan hasilnya. "
   ],
   "metadata": {}
  },
  {
   "cell_type": "code",
   "execution_count": null,
   "source": [
    "hrdata2 = pd.read_excel('hrdataset tambahan.xlsx')\n",
    "hrdata2.head()"
   ],
   "outputs": [],
   "metadata": {}
  },
  {
   "cell_type": "code",
   "execution_count": null,
   "source": [
    "hrdata3 = pd.merge(hrdata1, hrdata2, how = 'left', on = 'Employee Number') \n",
    "hrdata3.tail()"
   ],
   "outputs": [],
   "metadata": {}
  },
  {
   "cell_type": "code",
   "execution_count": null,
   "source": [
    "hrdata4 = pd.merge(hrdata1, hrdata2, how = 'right', on = 'Employee Number') \n",
    "hrdata5 = pd.merge(hrdata1, hrdata2, how = 'inner', on = 'Employee Number') \n",
    "hrdata6 = pd.merge(hrdata1, hrdata2, how = 'outer', on = 'Employee Number') "
   ],
   "outputs": [],
   "metadata": {}
  },
  {
   "cell_type": "code",
   "execution_count": null,
   "source": [
    "print(hrdata3.shape)\n",
    "print(hrdata4.shape)\n",
    "print(hrdata5.shape)\n",
    "print(hrdata6.shape)"
   ],
   "outputs": [],
   "metadata": {}
  },
  {
   "cell_type": "code",
   "execution_count": null,
   "source": [
    "? np.array()"
   ],
   "outputs": [],
   "metadata": {}
  },
  {
   "cell_type": "code",
   "execution_count": null,
   "source": [
    "from numpy import random"
   ],
   "outputs": [],
   "metadata": {}
  },
  {
   "cell_type": "code",
   "execution_count": null,
   "source": [
    "from sklearn import preprocessing"
   ],
   "outputs": [],
   "metadata": {}
  },
  {
   "cell_type": "code",
   "execution_count": null,
   "source": [],
   "outputs": [],
   "metadata": {}
  }
 ],
 "metadata": {
  "kernelspec": {
   "display_name": "Python 3",
   "language": "python",
   "name": "python3"
  },
  "language_info": {
   "codemirror_mode": {
    "name": "ipython",
    "version": 3
   },
   "file_extension": ".py",
   "mimetype": "text/x-python",
   "name": "python",
   "nbconvert_exporter": "python",
   "pygments_lexer": "ipython3",
   "version": "3.7.0"
  }
 },
 "nbformat": 4,
 "nbformat_minor": 2
}