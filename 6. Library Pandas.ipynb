{
 "cells": [
  {
   "cell_type": "markdown",
   "source": [
    "# Package Pandas  \n",
    "\n",
    "Digunakan untuk pengolahan data yang berkaitan dengan data frame. "
   ],
   "metadata": {}
  },
  {
   "cell_type": "code",
   "execution_count": null,
   "source": [
    "# Lakukan import pandas sebagai pd\n",
    "import pandas as pd"
   ],
   "outputs": [],
   "metadata": {}
  },
  {
   "cell_type": "code",
   "execution_count": null,
   "source": [
    "# Lakukan import numpy sebagai np\n",
    "import numpy as np"
   ],
   "outputs": [],
   "metadata": {}
  },
  {
   "cell_type": "markdown",
   "source": [
    "## 1. Membuat dataframe\n",
    "\n",
    "Untuk membuat data frame, digunakan sintaks berikut: `pandas.DataFrame( data, index, columns, dtype, copy)`  \n",
    "1. index merupakan label untuk baris   \n",
    "2. columns merupakan label untuk kolom\n",
    "3. dtype merupakan tipe data perkolom\n",
    "4. copy digunakan untuk menyalin data, defaultnya False"
   ],
   "metadata": {}
  },
  {
   "cell_type": "code",
   "execution_count": null,
   "source": [
    "# Membuat rentang waktu\n",
    "tanggal = pd.date_range(\"20200901\", freq=\"M\", periods=9)\n",
    "print(tanggal)"
   ],
   "outputs": [],
   "metadata": {}
  },
  {
   "cell_type": "code",
   "execution_count": null,
   "source": [
    "# Membuat data frame dengan data randon ukuran 9x4, serta label baris adalah tanggal dan label kolom A, B, C, D\n",
    "contoh1 = pd.DataFrame(np.random.randn(9,4), index=tanggal, columns=(\"A\",\"B\",\"C\",\"D\"))\n",
    "contoh1"
   ],
   "outputs": [],
   "metadata": {}
  },
  {
   "cell_type": "code",
   "execution_count": null,
   "source": [
    "# Membuat dataframe dengan daftar anggota\n",
    "contoh2 = pd.DataFrame({\"A\": 1.,\n",
    "                       \"B\": pd.Timestamp(\"20180925\"),\n",
    "                       \"C\": np.array([3]*4, dtype=\"int32\"),\n",
    "                       \"D\": pd.Categorical([\"test\",\"train\"]*2),\n",
    "                       \"E\": np.array([1,12,32,14])}, index=[\"satu\",\"dua\",\"tiga\",\"empat\"])\n",
    "contoh2"
   ],
   "outputs": [],
   "metadata": {}
  },
  {
   "cell_type": "markdown",
   "source": [
    "## 2. Menambah, menghapus, dan menyeleksi kolom data frame\n",
    "\n",
    "Menghapus kolom dengan fungsi:  \n",
    "1. `del(data_frame[\"kolom\"])` \n",
    "2. `.pop(\"kolom\")`\n",
    "3. `.drop(\"kolom\", axis=1)`; axis=1 berarti menghapus sepanjang kolom yang dimaksud\n",
    "\n",
    "Menambahkan kolom baru dengan operasi matematis \"+\""
   ],
   "metadata": {}
  },
  {
   "cell_type": "code",
   "execution_count": null,
   "source": [
    "# Menambahkan kolom baru dengan nama \"F\", dengan operasi penambahan kolom \"C\" dan \"E\"\n",
    "contoh2[\"F\"]=contoh2[\"C\"]+contoh2[\"E\"]\n",
    "print(contoh2)"
   ],
   "outputs": [],
   "metadata": {}
  },
  {
   "cell_type": "code",
   "execution_count": null,
   "source": [
    "# Menambahkan kolom baru dengan nama \"G\", pada index satu, tiga, empat \n",
    "contoh2[\"G\"]=pd.Series([10,20,30], index=[\"satu\", \"tiga\", \"empat\"])\n",
    "print(contoh2)"
   ],
   "outputs": [],
   "metadata": {}
  },
  {
   "cell_type": "code",
   "execution_count": null,
   "source": [
    "# Menghapus kolom \"B\" dengan fungsi del\n",
    "del(contoh2[\"B\"])\n",
    "contoh2"
   ],
   "outputs": [],
   "metadata": {}
  },
  {
   "cell_type": "code",
   "execution_count": null,
   "source": [
    "# Menghapus kolom \"C\" dengan pop\n",
    "contoh2.pop(\"C\")\n",
    "contoh2"
   ],
   "outputs": [],
   "metadata": {}
  },
  {
   "cell_type": "code",
   "execution_count": null,
   "source": [
    "# Menyeleksi kolom \"A\"\n",
    "kolomA = contoh2[\"A\"]\n",
    "kolomA"
   ],
   "outputs": [],
   "metadata": {}
  },
  {
   "cell_type": "code",
   "execution_count": null,
   "source": [
    "# Menghapus kolom \"A\" dengan fungsi drop\n",
    "contoh2_hapus = contoh2.drop(\"A\", axis = 1)\n",
    "contoh2_hapus.head()"
   ],
   "outputs": [],
   "metadata": {}
  },
  {
   "cell_type": "markdown",
   "source": [
    "## 3. Menambah, mengurang, dan menyeleksi baris pada data frame\n",
    "\n",
    "Menyeleksi/mengiris data frame dengan fungsi:\n",
    "1. `loc`: untuk seleksi dengan menggunakan indeks/bilangan bulat\n",
    "2. `iloc`: untuk seleksi dengan menggunakan bilangan bulat\n",
    "\n",
    "Menambah baris dengan fungsi: `.append()`\n",
    "\n",
    "Menghapus baris dengan fungsi: `.del(\"index\", axis=0)`, axis=0 berarti menghapus sepanjang baris."
   ],
   "metadata": {}
  },
  {
   "cell_type": "code",
   "execution_count": null,
   "source": [
    "# Menambah baris menggunakan fungsi append\n",
    "contoh3 = pd.DataFrame([[1,\"train\",4,5,6.0], [2,\"test\",7,12,34]], columns=[\"A\",\"D\",\"E\",\"F\",\"G\"])\n",
    "contoh3\n",
    "\n",
    "contoh4 = contoh2.append(contoh3)\n",
    "contoh4"
   ],
   "outputs": [],
   "metadata": {}
  },
  {
   "cell_type": "code",
   "execution_count": null,
   "source": [
    "# Menyeleksi indeks \"tiga\" pada baris\n",
    "contoh4.loc[\"tiga\"]"
   ],
   "outputs": [],
   "metadata": {}
  },
  {
   "cell_type": "code",
   "execution_count": null,
   "source": [
    "# Menyeleksi baris ke 2 dan 3, dengan menyebut urutannya, kemudian mengcopy hasilnya\n",
    "contoh5=contoh4.iloc[1:3].copy()\n",
    "contoh5"
   ],
   "outputs": [],
   "metadata": {}
  },
  {
   "cell_type": "code",
   "execution_count": null,
   "source": [
    "# Menghapus baris dengan indeks \"tiga\". Simpan variabel dengan nama \"contoh5_hapus\"\n",
    "contoh5_hapus = contoh5.drop(\"tiga\", axis=0)\n",
    "contoh5_hapus"
   ],
   "outputs": [],
   "metadata": {}
  },
  {
   "cell_type": "markdown",
   "source": [
    "## 4. Menyeleksi/megiris data frame berdasar baris dan kolom\n",
    "\n"
   ],
   "metadata": {}
  },
  {
   "cell_type": "code",
   "execution_count": null,
   "source": [
    "contoh2"
   ],
   "outputs": [],
   "metadata": {}
  },
  {
   "cell_type": "code",
   "execution_count": null,
   "source": [
    "# mengiris data baris dan kolom\n",
    "contoh2.iloc[1:3, 2:5]"
   ],
   "outputs": [],
   "metadata": {}
  },
  {
   "cell_type": "code",
   "execution_count": null,
   "source": [
    "# Menampilkan informasi pada data frame\n",
    "contoh2.info()"
   ],
   "outputs": [],
   "metadata": {}
  },
  {
   "cell_type": "markdown",
   "source": [
    "### Fungsi dasar untuk series  \n",
    "\n",
    "\n",
    "Berikut fungsi dasar untuk series (deret)  \n",
    "\n",
    "No   | Fungsi   | Deskripsi\n",
    ":---:|:---      |:---   \n",
    "1    | axes     | Daftar label baris dan kolom |\n",
    "2    | dtypes   | Daftar tipe data setiap kolom |\n",
    "3    | empty    | Akan bernilai True jika deret ada yang kosong |\n",
    "4    | size     | Ukuran dari data |\n",
    "5    | values   | Mengubah deret menjadi ndarray (n dimensional array) |\n",
    "6    | head()   | Menampilkan n data pertama |\n",
    "7    | tail()   | Menampilkan n data terakhir |"
   ],
   "metadata": {}
  },
  {
   "cell_type": "code",
   "execution_count": null,
   "source": [
    "# cobalah fungsi axes, dtypes, empty, size, head, tail untuk contoh2"
   ],
   "outputs": [],
   "metadata": {}
  },
  {
   "cell_type": "markdown",
   "source": [
    "## 5. Mengimport atau membaca file (csv, xls)"
   ],
   "metadata": {}
  },
  {
   "cell_type": "code",
   "execution_count": null,
   "source": [
    "# Membaca file xls. File terletak dalam satu folder dengan notebook jupyter\n",
    "superstore = pd.read_excel(\"Superstore.xls\")\n",
    "superstore.head()"
   ],
   "outputs": [],
   "metadata": {}
  },
  {
   "cell_type": "code",
   "execution_count": null,
   "source": [
    "# Gunakan fungsi dasar untuk series, untuk melihat informasi tabel\n",
    "superstore.empty"
   ],
   "outputs": [],
   "metadata": {}
  },
  {
   "cell_type": "code",
   "execution_count": null,
   "source": [
    "superstore.dtypes"
   ],
   "outputs": [],
   "metadata": {}
  },
  {
   "cell_type": "code",
   "execution_count": null,
   "source": [
    "# Ukuran data frame (baris, kolom)\n",
    "superstore.shape"
   ],
   "outputs": [],
   "metadata": {}
  },
  {
   "cell_type": "code",
   "execution_count": null,
   "source": [
    "# Ukuran data frame \n",
    "superstore.size"
   ],
   "outputs": [],
   "metadata": {}
  },
  {
   "cell_type": "code",
   "execution_count": null,
   "source": [
    "# apakah tipe data superstore? Gunakan fungsi type\n",
    "type(superstore)"
   ],
   "outputs": [],
   "metadata": {}
  },
  {
   "cell_type": "code",
   "execution_count": null,
   "source": [
    "# Gunakan fungsi .info() untuk mengetahui gambaran data superstore\n",
    "superstore.info()"
   ],
   "outputs": [],
   "metadata": {}
  },
  {
   "cell_type": "code",
   "execution_count": null,
   "source": [
    "# Pilih kolom \"Product Name\", dan simpan dalam variabel produk\n",
    "\n",
    "produk = superstore['Product Name']\n",
    "produk.head(10)"
   ],
   "outputs": [],
   "metadata": {}
  },
  {
   "cell_type": "code",
   "execution_count": null,
   "source": [
    "# Menjadikan series ke array dengan .values\n",
    "produk.values"
   ],
   "outputs": [],
   "metadata": {}
  },
  {
   "cell_type": "code",
   "execution_count": null,
   "source": [
    "# Memilih baris kelipatan 3, dengan semua kolom. Kemudian tampilkan 10 data pertama\n",
    "superstore.iloc[::3,:].head(10)"
   ],
   "outputs": [],
   "metadata": {}
  },
  {
   "cell_type": "code",
   "execution_count": null,
   "source": [
    "# Menyeleksi data dengan Kota adalah \"Semarang\". Kemudian tampilkan 5 data pertama\n",
    "semarang = superstore[superstore.Kota == \"Semarang\"]\n",
    "semarang.head(5)"
   ],
   "outputs": [],
   "metadata": {}
  },
  {
   "cell_type": "markdown",
   "source": [
    "## 6. Menambahkan kolom baru pada data frame"
   ],
   "metadata": {}
  },
  {
   "cell_type": "code",
   "execution_count": null,
   "source": [
    "# Tambahkan kolom \"Garansi\", dan isikan semua baris dengan \"Tidak Bergaransi\"\n",
    "superstore[\"Garansi\"] = \"Tidak bergaransi\"\n",
    "superstore.head(3)"
   ],
   "outputs": [],
   "metadata": {}
  },
  {
   "cell_type": "code",
   "execution_count": null,
   "source": [
    "# Seleksi kolom Customer ID, Kota, Sub-Category, dan Profit. Simpan dalam variabel superstore2\n",
    "superstore2 = superstore[[\"Customer ID\", \"Kota\", \"Sub-Category\", \"Profit\"]]\n",
    "superstore2.head(5)"
   ],
   "outputs": [],
   "metadata": {}
  },
  {
   "cell_type": "code",
   "execution_count": null,
   "source": [
    "# Seleksi superstore2, yang Kota adalah Semarang, memiliki Profit lebih dari 20. Simpan dalam superstore2_filter. \n",
    "superstore2_filter = superstore2[(superstore2.Kota == \"Semarang\") & (superstore2.Profit > 20)] \n",
    "superstore2_filter.head()"
   ],
   "outputs": [],
   "metadata": {}
  },
  {
   "cell_type": "code",
   "execution_count": null,
   "source": [
    "# Berapakah data yang sesuai dengan kondisi setelah dilakukan filtering? \n",
    "superstore2_filter.count()"
   ],
   "outputs": [],
   "metadata": {}
  }
 ],
 "metadata": {
  "celltoolbar": "Slideshow",
  "kernelspec": {
   "display_name": "Python 3",
   "language": "python",
   "name": "python3"
  },
  "language_info": {
   "codemirror_mode": {
    "name": "ipython",
    "version": 3
   },
   "file_extension": ".py",
   "mimetype": "text/x-python",
   "name": "python",
   "nbconvert_exporter": "python",
   "pygments_lexer": "ipython3",
   "version": "3.7.0"
  }
 },
 "nbformat": 4,
 "nbformat_minor": 2
}