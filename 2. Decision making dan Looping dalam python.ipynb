{
 "cells": [
  {
   "cell_type": "markdown",
   "source": [
    "# Desicion Making\n",
    "\n",
    "\n",
    "Desicion making dengan menggunakan if...else\n",
    "\n",
    "```\n",
    "\n",
    " if expression:   \n",
    "  statement(s)   \n",
    " else:   \n",
    "  statement(s)   \n",
    "\n",
    "```"
   ],
   "metadata": {}
  },
  {
   "cell_type": "code",
   "execution_count": null,
   "source": [
    "var1 = 2\n",
    "if var1 == 100:\n",
    "   print (\"Ayo kita belajar bahasa pemrograman python\")\n",
    "   print (var1)\n",
    "else:\n",
    "   print (\"Belajar pemrograman database juga\")\n",
    "   print (var1)"
   ],
   "outputs": [],
   "metadata": {}
  },
  {
   "cell_type": "markdown",
   "source": [
    "\n",
    "## Desision making bertingkat if...elif...else\n",
    "\n",
    "```\n",
    "if expression1:\n",
    "   statement(s)\n",
    "elif expression3:\n",
    "    statement(s)\n",
    "elif expression4:\n",
    "    statement(s)\n",
    "else:\n",
    "    statement(s)\n",
    "```"
   ],
   "metadata": {}
  },
  {
   "cell_type": "markdown",
   "source": [
    "## Desision making tersarang dengan if...elif...else\n",
    "\n",
    "```\n",
    "if expression1:\n",
    "   statement(s)\n",
    "   if expression2:\n",
    "      statement(s)\n",
    "   elif expression3:\n",
    "      statement(s)\n",
    "   elif expression4:\n",
    "      statement(s)\n",
    "   else:\n",
    "      statement(s)\n",
    "else:\n",
    "   statement(s)\n",
    "```"
   ],
   "metadata": {}
  },
  {
   "cell_type": "code",
   "execution_count": null,
   "source": [
    "var = 9\n",
    "\n",
    "if var == 1:\n",
    "    print(\"Nilainya tertinggi, kategori: \" + str(var))\n",
    "elif var == 2:\n",
    "    print(\"Nilainya sedang, kategori: \" + str(var))\n",
    "elif var == 3:\n",
    "    print(\"Nilainya rendah, kategori: \"+str(var))\n",
    "else:\n",
    "    print(\"Bukan kategori\")"
   ],
   "outputs": [],
   "metadata": {}
  },
  {
   "cell_type": "markdown",
   "source": [
    "### Contoh 1 desicion making\n",
    "\n",
    "Buatlah desicion making dengan kondisi berikut:  \n",
    "\n",
    "| Interval Nilai | Perintah   \n",
    "|:----------------|:------------\n",
    "| besar >= 200.00 | Data proses sangat tinggi: besar MB    \n",
    "| 150.00 <= besar < 199.99 | Data proses tinggi: besar MB  \n",
    "| 100.00 <= besar < 149.99 | Data proses sedang: besar MB\n",
    "| besar < 99.99 | Data proses rendah: besar MB  \n"
   ],
   "metadata": {}
  },
  {
   "cell_type": "code",
   "execution_count": null,
   "source": [
    "# Penyelesaian dengan menggunakan batas atas\n",
    "besar = 151\n",
    "\n",
    "if besar<99.99:\n",
    "    print(\"Data proses rendah: \" + str(besar)+\" MB\")\n",
    "elif besar<149.99:\n",
    "    print(\"Data proses sedang: \"+str(besar)+\" MB\")\n",
    "elif besar<199.99:\n",
    "    print(\"Data proses tinggi: \"+str(besar)+\" MB\")\n",
    "else:\n",
    "    print(\"Data proses sangat tinggi: \"+str(besar)+\" MB\" )"
   ],
   "outputs": [],
   "metadata": {}
  },
  {
   "cell_type": "markdown",
   "source": [
    "### Latihan\n",
    "\n",
    "Gunakan perintah pada contoh 1, tetapi dengan ekspresi if menggunakan batas bawah. Dengan input sama yaitu \"besar = 151\" harus menghasilkan kelas \"Data proses tinggi: 151 MB\"."
   ],
   "metadata": {}
  },
  {
   "cell_type": "code",
   "execution_count": null,
   "source": [
    "# Penyelesaian dengan batas bawah\n"
   ],
   "outputs": [],
   "metadata": {}
  },
  {
   "cell_type": "markdown",
   "source": [
    "# Looping While\n",
    "\n",
    "Pengulangan while mirip dengan sebuah if: mengeksekusi code di dalamnya jika kondisi yang diberikan bernilai True. Perbedaannya adalah di while code di dalamnya akan terus berulang terus selama kondisinya benar. \n",
    "\n",
    "```\n",
    "while expression:\n",
    "   statement(s)\n",
    "```\n",
    "\n",
    "Pada `while` membutuhkan increament yaitu nilai yang akan memperbaharui nilai sebelumnya, sehingga akan menyebabkan kondisi pada ekspresi while tidak terpenuhi. Ketika kondisi tersebut tidak terpenuhi, looping while akan berhenti. "
   ],
   "metadata": {
    "slideshow": {
     "slide_type": "slide"
    }
   }
  },
  {
   "cell_type": "code",
   "execution_count": null,
   "source": [
    "# Jalankan code\n",
    "angka = 8\n",
    "\n",
    "if angka > 2:\n",
    "  print(\"if, nilai angka sekarang: \" + str(angka))\n",
    "\n",
    "while angka > 2:\n",
    "  print (\"while, nilai angka sekarang: \" + str(angka))\n",
    "  angka = angka - 1"
   ],
   "outputs": [],
   "metadata": {
    "slideshow": {
     "slide_type": "fragment"
    }
   }
  },
  {
   "cell_type": "markdown",
   "source": [
    "### Latihan looping while:\n",
    "Print angka 0 - 100 tp dengan kelipatan 3"
   ],
   "metadata": {
    "slideshow": {
     "slide_type": "slide"
    }
   }
  },
  {
   "cell_type": "code",
   "execution_count": null,
   "source": [
    "angka = 100\n",
    "\n",
    "while angka >= 0:\n",
    "    if angka%3 == 0:\n",
    "        print(angka)\n",
    "    angka = angka - 1"
   ],
   "outputs": [],
   "metadata": {}
  },
  {
   "cell_type": "code",
   "execution_count": null,
   "source": [
    "angka = 0\n",
    "\n",
    "while angka < 100:\n",
    "    if angka%3 == 0:\n",
    "        print(angka)\n",
    "    angka = angka + 1"
   ],
   "outputs": [],
   "metadata": {}
  },
  {
   "cell_type": "markdown",
   "source": [
    "## Looping while bertingkat"
   ],
   "metadata": {
    "slideshow": {
     "slide_type": "slide"
    }
   }
  },
  {
   "cell_type": "code",
   "execution_count": null,
   "source": [
    "angka1 = 1\n",
    "string = \"\"\n",
    "\n",
    "while angka1 <= 5: \n",
    "  angka2 = angka1\n",
    "  \n",
    "  while angka2 > 0:\n",
    "    string = string + \"*\"\n",
    "    angka2 = angka2 - 1\n",
    "    \n",
    "  string = string + \"\\n\"\n",
    "  angka1 = angka1 + 1 \n",
    "  \n",
    "print (string)"
   ],
   "outputs": [],
   "metadata": {
    "slideshow": {
     "slide_type": "fragment"
    }
   }
  },
  {
   "cell_type": "markdown",
   "source": [
    "### Latihan while bertingkat:\n",
    "Ubah code berikut menjadi terbalik\n",
    "```\n",
    "*****\n",
    "****\n",
    "***\n",
    "**\n",
    "*\n",
    "```"
   ],
   "metadata": {
    "collapsed": true,
    "slideshow": {
     "slide_type": "slide"
    }
   }
  },
  {
   "cell_type": "markdown",
   "source": [
    "## Looping Break\n",
    "\n",
    "Break dapat digunakan untuk berhenti/keluar dari loop. "
   ],
   "metadata": {
    "collapsed": true,
    "slideshow": {
     "slide_type": "slide"
    }
   }
  },
  {
   "cell_type": "code",
   "execution_count": null,
   "source": [
    "# Jika tidak diberhentikan, code akan jalan terus\n",
    "angka = 0\n",
    "\n",
    "while True:\n",
    "    print (angka)\n",
    "    angka = angka + 1\n",
    "    if angka >= 5:\n",
    "        print (angka)\n",
    "        break"
   ],
   "outputs": [],
   "metadata": {
    "slideshow": {
     "slide_type": "fragment"
    }
   }
  },
  {
   "cell_type": "code",
   "execution_count": null,
   "source": [
    "# akan berhenti jika jumlah kepala muncul 3 kali berturut turut\n",
    "from random import randint\n",
    "\n",
    "hitung_kepala = 0\n",
    "hitung_total = 0\n",
    "\n",
    "while True:\n",
    "  \n",
    "  # angka integer acak: 0 atau 1\n",
    "  putar  = randint(0,1)\n",
    "  \n",
    "  if putar:\n",
    "    hitung_kepala  = hitung_kepala + 1\n",
    "    print (str(hitung_total) + \" kepala \" + str(hitung_kepala))\n",
    "  else:\n",
    "    hitung_kepala = 0\n",
    "    print (str(hitung_total) + \" buntut\")\n",
    "    \n",
    "  hitung_total = hitung_total + 1\n",
    "\n",
    "  if (hitung_kepala >= 3 or hitung_total >= 100): \n",
    "    # if not (hitung_kepala < 3 and hitung_total < 100):\n",
    "    break\n",
    "\n",
    "print (\"Muncul kepala \" + str(hitung_kepala) + \" kali berturut-turut.\")"
   ],
   "outputs": [],
   "metadata": {
    "slideshow": {
     "slide_type": "fragment"
    }
   }
  },
  {
   "cell_type": "markdown",
   "source": [
    "## Looping For\n",
    "\n",
    "```\n",
    "for iterating_var in sequence:\n",
    "   statements(s)\n",
    "```"
   ],
   "metadata": {
    "slideshow": {
     "slide_type": "slide"
    }
   }
  },
  {
   "cell_type": "code",
   "execution_count": null,
   "source": [
    "print (\"Berhitung..\")\n",
    "\n",
    "for i in range(5):\n",
    "    print(i)\n",
    "\n",
    "print (\"Boom..!!\")"
   ],
   "outputs": [],
   "metadata": {
    "slideshow": {
     "slide_type": "fragment"
    }
   }
  },
  {
   "cell_type": "markdown",
   "source": [
    "### Latihan looping for\n",
    "\n",
    "Print range yang terbalik kelipatan 3 dari 99"
   ],
   "metadata": {
    "slideshow": {
     "slide_type": "slide"
    }
   }
  }
 ],
 "metadata": {
  "celltoolbar": "Slideshow",
  "kernelspec": {
   "name": "python3",
   "display_name": "Python 3.8.8 64-bit ('base': conda)"
  },
  "language_info": {
   "codemirror_mode": {
    "name": "ipython",
    "version": 3
   },
   "file_extension": ".py",
   "mimetype": "text/x-python",
   "name": "python",
   "nbconvert_exporter": "python",
   "pygments_lexer": "ipython3",
   "version": "3.8.8"
  },
  "interpreter": {
   "hash": "36685999ec8aad35df98a3f6876b7671b7ec32c5e9210f258cf46c6b5de5ad1a"
  }
 },
 "nbformat": 4,
 "nbformat_minor": 2
}