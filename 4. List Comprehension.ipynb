{
 "cells": [
  {
   "cell_type": "markdown",
   "metadata": {},
   "source": [
    "# List Comprehension\n",
    "\n",
    "List comprehension menawarkan sintaks yang lebih pendek saat kita ingin membuat list baru berdasarkan nilai dari list yang sudah ada.\n",
    "\n",
    "Contoh:\n",
    "Berdasarkan list buah-buahan, kita menginginkan list baru, yang hanya berisi buah-buahan dengan huruf \"a\" di namanya.\n",
    "\n",
    "Tanpa list comprehension, kita harus menulis pernyataan for dengan tes bersyarat di dalamnya, perhatikan kode berikut. "
   ]
  },
  {
   "cell_type": "code",
   "execution_count": 1,
   "metadata": {},
   "outputs": [
    {
     "name": "stdout",
     "output_type": "stream",
     "text": [
      "['apple', 'banana', 'mango']\n"
     ]
    }
   ],
   "source": [
    "fruits = [\"apple\", \"banana\", \"cherry\", \"kiwi\", \"mango\"]\n",
    "newlist = []\n",
    "\n",
    "for x in fruits:\n",
    "  if \"a\" in x:\n",
    "    newlist.append(x)\n",
    "\n",
    "print(newlist)"
   ]
  },
  {
   "cell_type": "markdown",
   "metadata": {},
   "source": [
    "## Sintaks\n",
    "\n",
    "Dengan menggunakan list comprehension, sintaks tersebut dapat dijadikan dalam satu baris. Sintaks yang digunakan yaitu: \n",
    "\n",
    "\n",
    "**newlist = [expression *for* item *in* iterable *if* condition == True]**\n",
    "\n",
    "akan menghasilkan newlist tanpa mengubah list yang lama. "
   ]
  },
  {
   "cell_type": "code",
   "execution_count": 2,
   "metadata": {},
   "outputs": [
    {
     "name": "stdout",
     "output_type": "stream",
     "text": [
      "['apple', 'banana', 'mango']\n"
     ]
    }
   ],
   "source": [
    "newlist = [x for x in fruits if \"a\" in x]\n",
    "\n",
    "print(newlist)"
   ]
  },
  {
   "cell_type": "markdown",
   "metadata": {},
   "source": [
    "## Condition (if)\n",
    "\n",
    "Kondisi/condition seperti suatu penyaring (filter) yang menerima hanya items yang bernilai True. \n",
    "\n",
    "Contoh, perhatikan kode berikut yang hanya menerima kondisi: \"bukan apple\". Kondisi `if x != \"apple\"` akan memberikan nilai `True` untuk semua element selain \"apple\". Dengan demikian, newlist terdiri dari semua buah, kecuali \"apple\". \n",
    "\n",
    "Kondisi `if` bersifat opsional, sehingga kita suatu saat dapat menghilangkannya (jika dirasa perlu). "
   ]
  },
  {
   "cell_type": "code",
   "execution_count": 3,
   "metadata": {},
   "outputs": [
    {
     "name": "stdout",
     "output_type": "stream",
     "text": [
      "['banana', 'cherry', 'kiwi', 'mango']\n"
     ]
    }
   ],
   "source": [
    "newlist = [x for x in fruits if x != \"apple\"]\n",
    "print(newlist)"
   ]
  },
  {
   "cell_type": "code",
   "execution_count": 4,
   "metadata": {},
   "outputs": [
    {
     "name": "stdout",
     "output_type": "stream",
     "text": [
      "['apple', 'banana', 'cherry', 'kiwi', 'mango']\n"
     ]
    }
   ],
   "source": [
    "# tanpa condition if\n",
    "\n",
    "newlist = [x for x in fruits]\n",
    "print(newlist)"
   ]
  },
  {
   "cell_type": "markdown",
   "metadata": {},
   "source": [
    "## Iterable\n",
    "\n",
    "Bagian iterable dapat berupa obyek yang dapat diiterasi seperti list, tuple, set, dan lainnya.\n",
    "\n",
    "Contohnya kita ingin membuat newlist adalah deret angka dari 0 hingga 9. Dalam hal ini, kita dapat menggunakan `for x in range(10)`.\n"
   ]
  },
  {
   "cell_type": "code",
   "execution_count": 5,
   "metadata": {},
   "outputs": [
    {
     "name": "stdout",
     "output_type": "stream",
     "text": [
      "[0, 1, 2, 3, 4, 5, 6, 7, 8, 9]\n"
     ]
    }
   ],
   "source": [
    "newlist = [x for x in range(10)]\n",
    "print(newlist)"
   ]
  },
  {
   "cell_type": "code",
   "execution_count": 6,
   "metadata": {},
   "outputs": [
    {
     "name": "stdout",
     "output_type": "stream",
     "text": [
      "[0, 1, 2, 3, 4]\n"
     ]
    }
   ],
   "source": [
    "# Apabila ditambah dengan suatu kondisi (hanya menampilkan angka < 5)\n",
    "newlist = [x for x in range(10) if x < 5]\n",
    "print(newlist)"
   ]
  },
  {
   "cell_type": "markdown",
   "metadata": {},
   "source": [
    "## Expression\n",
    "\n",
    "Expression adalah item saat ini dalam iterasi, tetapi juga merupakan hasil, yang dapat kita manipulasi sebelum berakhir seperti item list di list yang baru. \n",
    "\n",
    "Contohnya: ubah nilai dalam list menjadi tulisan dalam huruf kapital. \n",
    "\n",
    "Expression juga dapat berisi condition, tidak seperti filter, tetapi sebagai cara untuk memanipulasi hasil. Contoh berikan outputnya \"orange\", bukan \"banana\". \n",
    "\n",
    "`newlist = [x if x != \"banana\" else \"orange\" for x in fruits]`\n",
    "\n",
    "Artinya, `if` x bukan banana, maka akan diteruskan ke `for`. Akan tetapi, `if` x = banana, maka masuk dalam `else` yang merupakan orange. "
   ]
  },
  {
   "cell_type": "code",
   "execution_count": 7,
   "metadata": {},
   "outputs": [
    {
     "name": "stdout",
     "output_type": "stream",
     "text": [
      "['APPLE', 'BANANA', 'CHERRY', 'KIWI', 'MANGO']\n"
     ]
    }
   ],
   "source": [
    "newlist = [x.upper() for x in fruits]\n",
    "print(newlist)"
   ]
  },
  {
   "cell_type": "code",
   "execution_count": 8,
   "metadata": {},
   "outputs": [
    {
     "name": "stdout",
     "output_type": "stream",
     "text": [
      "['hello', 'hello', 'hello', 'hello', 'hello']\n"
     ]
    }
   ],
   "source": [
    "# mengubah nilai dalam fruits menjadi \"hello\"\n",
    "newlist = ['hello' for x in fruits]\n",
    "print(newlist)"
   ]
  },
  {
   "cell_type": "code",
   "execution_count": 9,
   "metadata": {},
   "outputs": [
    {
     "name": "stdout",
     "output_type": "stream",
     "text": [
      "['apple', 'orange', 'cherry', 'kiwi', 'mango']\n"
     ]
    }
   ],
   "source": [
    "newlist = [x if x != \"banana\" else \"orange\" for x in fruits]\n",
    "print(newlist)"
   ]
  },
  {
   "cell_type": "markdown",
   "metadata": {},
   "source": [
    "### Poin Penting untuk Diingat:\n",
    "\n",
    "1. *List comprehension* adalah cara yang elegan untuk menentukan dan membuat list berdasarkan list yang ada.\n",
    "2. *List comprehension* umumnya lebih ringkas dan lebih cepat daripada fungsi dan loop normal untuk membuat list.\n",
    "3. Namun, kita harus menghindari menulis *list comprehension* yang sangat panjang dalam satu baris untuk memastikan bahwa kode itu ramah pengguna.\n",
    "4. Ingat, setiap *list comprehension* dapat ditulis dalam perulangan `for`, tetapi tidak setiap pengulangan `for` dapat ditulis dalam bentuk *list comprehension*."
   ]
  },
  {
   "cell_type": "markdown",
   "metadata": {},
   "source": [
    "# Latihan"
   ]
  },
  {
   "cell_type": "code",
   "execution_count": 10,
   "metadata": {},
   "outputs": [],
   "source": [
    "dict_berita ={\n",
    "    'Paragraf': [\"satu\", \"dua\", \"tiga\", \"empat\", \"lima\", \"enam\", \"tujuh\"],\n",
    "    'Isi': ['Organisai Kesehatan Dunia (WHO) tidak pernah membayangkan vaksinasi wajib dilakukan di seluruh dunia untuk membendung penyebaran virus corona. Hal ini disampaikan WHO Senin (7/12/2020) di Jenewa',\n",
    "            'Menurut WHO, kampanye informasi dan penyediaan vaksin untuk kelompok prioritas seperti petugas medis dan lansia akan lebih efektif, mengingat jumlah kematian global yang sudah mencapai lebih dari 1,5 juta jiwa',\n",
    "            'Seperti diberitakan Reuters, Selasa (8/12/2020), Inggris sudah memulai program vaksinasi pekan ini dan negara lain kemungkinan besar akan segera menyusul. Saat ini, pihak berwenang berusaha meyakinkan masyarakat tentang keamanan dan kemanjuran vaksin.',\n",
    "            'Kami tidak membayangkan negara mana pun membuat mandat wajib untuk vaksinasi ujar Kate OBrien, direktur vaksin imunisasi dan biologi WHO dalam konferensi pers di Jenewa, Senin.',\n",
    "            'Namun mungkin ada beberapa negara atau situasi tertentu yang mengharuskan atau sangat direkomendasikan untuk melakukan vaksinasi, contohnya rumah sakit.',\n",
    "            'Sementara itu, pakar darurat utama WHO, Mike Ryan, menambahkan pihaknya lebih baik melayani masyarakat berdasarkan data agar orang mendapat manfaatnya.',\n",
    "            'WHO menganggap membujuk orang dengan memaparkan manfaat Covid-19 akan lebih efektif dibanding mewajibkan vaksin. Badan itu menambahkan, masing-masing negara akan memutuskan bagaimana mereka ingin melakukan kampanye vaksinasi']\n",
    "} "
   ]
  },
  {
   "cell_type": "code",
   "execution_count": 11,
   "metadata": {},
   "outputs": [
    {
     "data": {
      "text/html": [
       "<div>\n",
       "<style scoped>\n",
       "    .dataframe tbody tr th:only-of-type {\n",
       "        vertical-align: middle;\n",
       "    }\n",
       "\n",
       "    .dataframe tbody tr th {\n",
       "        vertical-align: top;\n",
       "    }\n",
       "\n",
       "    .dataframe thead th {\n",
       "        text-align: right;\n",
       "    }\n",
       "</style>\n",
       "<table border=\"1\" class=\"dataframe\">\n",
       "  <thead>\n",
       "    <tr style=\"text-align: right;\">\n",
       "      <th></th>\n",
       "      <th>Paragraf</th>\n",
       "      <th>Isi</th>\n",
       "    </tr>\n",
       "  </thead>\n",
       "  <tbody>\n",
       "    <tr>\n",
       "      <th>0</th>\n",
       "      <td>satu</td>\n",
       "      <td>Organisai Kesehatan Dunia (WHO) tidak pernah m...</td>\n",
       "    </tr>\n",
       "    <tr>\n",
       "      <th>1</th>\n",
       "      <td>dua</td>\n",
       "      <td>Menurut WHO, kampanye informasi dan penyediaan...</td>\n",
       "    </tr>\n",
       "    <tr>\n",
       "      <th>2</th>\n",
       "      <td>tiga</td>\n",
       "      <td>Seperti diberitakan Reuters, Selasa (8/12/2020...</td>\n",
       "    </tr>\n",
       "    <tr>\n",
       "      <th>3</th>\n",
       "      <td>empat</td>\n",
       "      <td>Kami tidak membayangkan negara mana pun membua...</td>\n",
       "    </tr>\n",
       "    <tr>\n",
       "      <th>4</th>\n",
       "      <td>lima</td>\n",
       "      <td>Namun mungkin ada beberapa negara atau situasi...</td>\n",
       "    </tr>\n",
       "    <tr>\n",
       "      <th>5</th>\n",
       "      <td>enam</td>\n",
       "      <td>Sementara itu, pakar darurat utama WHO, Mike R...</td>\n",
       "    </tr>\n",
       "    <tr>\n",
       "      <th>6</th>\n",
       "      <td>tujuh</td>\n",
       "      <td>WHO menganggap membujuk orang dengan memaparka...</td>\n",
       "    </tr>\n",
       "  </tbody>\n",
       "</table>\n",
       "</div>"
      ],
      "text/plain": [
       "  Paragraf                                                Isi\n",
       "0     satu  Organisai Kesehatan Dunia (WHO) tidak pernah m...\n",
       "1      dua  Menurut WHO, kampanye informasi dan penyediaan...\n",
       "2     tiga  Seperti diberitakan Reuters, Selasa (8/12/2020...\n",
       "3    empat  Kami tidak membayangkan negara mana pun membua...\n",
       "4     lima  Namun mungkin ada beberapa negara atau situasi...\n",
       "5     enam  Sementara itu, pakar darurat utama WHO, Mike R...\n",
       "6    tujuh  WHO menganggap membujuk orang dengan memaparka..."
      ]
     },
     "execution_count": 11,
     "metadata": {},
     "output_type": "execute_result"
    }
   ],
   "source": [
    "import pandas as pd\n",
    "\n",
    "df = pd.DataFrame(dict_berita)\n",
    "df"
   ]
  },
  {
   "cell_type": "markdown",
   "metadata": {},
   "source": [
    "### Soal\n",
    "\n",
    "1. Buat list baru yang terdiri dari baris-baris yang hanya mengandung kata \"WHO\".   \n",
    "2. Buat list baru yang terdiri dari baris-baris yang tidak mengandung kata \"WHO\". \n",
    "3. Buat list baru yang apabila menemukan kata \"WHO\" akan digantikan dengan \"World Health Organization\"."
   ]
  },
  {
   "cell_type": "code",
   "execution_count": 17,
   "metadata": {},
   "outputs": [
    {
     "name": "stdout",
     "output_type": "stream",
     "text": [
      "['Organisai Kesehatan Dunia (WHO) tidak pernah membayangkan vaksinasi wajib dilakukan di seluruh dunia untuk membendung penyebaran virus corona. Hal ini disampaikan WHO Senin (7/12/2020) di Jenewa', 'Menurut WHO, kampanye informasi dan penyediaan vaksin untuk kelompok prioritas seperti petugas medis dan lansia akan lebih efektif, mengingat jumlah kematian global yang sudah mencapai lebih dari 1,5 juta jiwa', 'Kami tidak membayangkan negara mana pun membuat mandat wajib untuk vaksinasi ujar Kate OBrien, direktur vaksin imunisasi dan biologi WHO dalam konferensi pers di Jenewa, Senin.', 'Sementara itu, pakar darurat utama WHO, Mike Ryan, menambahkan pihaknya lebih baik melayani masyarakat berdasarkan data agar orang mendapat manfaatnya.', 'WHO menganggap membujuk orang dengan memaparkan manfaat Covid-19 akan lebih efektif dibanding mewajibkan vaksin. Badan itu menambahkan, masing-masing negara akan memutuskan bagaimana mereka ingin melakukan kampanye vaksinasi']\n"
     ]
    }
   ],
   "source": [
    "# 1\n",
    "\n",
    "list_baru = [baris for baris in df['Isi'] if \"WHO\" in baris]\n",
    "print(list_baru)"
   ]
  },
  {
   "cell_type": "code",
   "execution_count": 15,
   "metadata": {},
   "outputs": [
    {
     "name": "stdout",
     "output_type": "stream",
     "text": [
      "['Seperti diberitakan Reuters, Selasa (8/12/2020), Inggris sudah memulai program vaksinasi pekan ini dan negara lain kemungkinan besar akan segera menyusul. Saat ini, pihak berwenang berusaha meyakinkan masyarakat tentang keamanan dan kemanjuran vaksin.', 'Namun mungkin ada beberapa negara atau situasi tertentu yang mengharuskan atau sangat direkomendasikan untuk melakukan vaksinasi, contohnya rumah sakit.']\n"
     ]
    }
   ],
   "source": [
    "# 2\n",
    "\n",
    "list_baru = [baris for baris in df['Isi'] if \"WHO\" not in baris]\n",
    "print(list_baru)"
   ]
  },
  {
   "cell_type": "code",
   "execution_count": 16,
   "metadata": {},
   "outputs": [
    {
     "name": "stdout",
     "output_type": "stream",
     "text": [
      "['Organisai Kesehatan Dunia (World Health Organization) tidak pernah membayangkan vaksinasi wajib dilakukan di seluruh dunia untuk membendung penyebaran virus corona. Hal ini disampaikan World Health Organization Senin (7/12/2020) di Jenewa', 'Menurut World Health Organization, kampanye informasi dan penyediaan vaksin untuk kelompok prioritas seperti petugas medis dan lansia akan lebih efektif, mengingat jumlah kematian global yang sudah mencapai lebih dari 1,5 juta jiwa', 'Seperti diberitakan Reuters, Selasa (8/12/2020), Inggris sudah memulai program vaksinasi pekan ini dan negara lain kemungkinan besar akan segera menyusul. Saat ini, pihak berwenang berusaha meyakinkan masyarakat tentang keamanan dan kemanjuran vaksin.', 'Kami tidak membayangkan negara mana pun membuat mandat wajib untuk vaksinasi ujar Kate OBrien, direktur vaksin imunisasi dan biologi World Health Organization dalam konferensi pers di Jenewa, Senin.', 'Namun mungkin ada beberapa negara atau situasi tertentu yang mengharuskan atau sangat direkomendasikan untuk melakukan vaksinasi, contohnya rumah sakit.', 'Sementara itu, pakar darurat utama World Health Organization, Mike Ryan, menambahkan pihaknya lebih baik melayani masyarakat berdasarkan data agar orang mendapat manfaatnya.', 'World Health Organization menganggap membujuk orang dengan memaparkan manfaat Covid-19 akan lebih efektif dibanding mewajibkan vaksin. Badan itu menambahkan, masing-masing negara akan memutuskan bagaimana mereka ingin melakukan kampanye vaksinasi']\n"
     ]
    }
   ],
   "source": [
    "# 3\n",
    "\n",
    "# imort regex untuk mencari kata WHO dan menggantinya dengan World Health Organization\n",
    "import re\n",
    "\n",
    "list_baru = [baris if \"WHO\" not in baris else re.sub(r\"WHO\", \"World Health Organization\", baris) for baris in df['Isi']]\n",
    "print(list_baru)"
   ]
  },
  {
   "cell_type": "code",
   "execution_count": null,
   "metadata": {},
   "outputs": [],
   "source": []
  },
  {
   "cell_type": "markdown",
   "metadata": {},
   "source": [
    "Referensi: \n",
    "\n",
    "1. https://www.w3schools.com/python/python_lists_comprehension.asp     \n",
    "2. https://www.programiz.com/python-programming/list-comprehension"
   ]
  },
  {
   "cell_type": "code",
   "execution_count": null,
   "metadata": {},
   "outputs": [],
   "source": []
  }
 ],
 "metadata": {
  "kernelspec": {
   "display_name": "Python 3",
   "language": "python",
   "name": "python3"
  },
  "language_info": {
   "codemirror_mode": {
    "name": "ipython",
    "version": 3
   },
   "file_extension": ".py",
   "mimetype": "text/x-python",
   "name": "python",
   "nbconvert_exporter": "python",
   "pygments_lexer": "ipython3",
   "version": "3.7.0"
  }
 },
 "nbformat": 4,
 "nbformat_minor": 2
}
