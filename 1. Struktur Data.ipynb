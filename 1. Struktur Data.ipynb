{
 "cells": [
  {
   "cell_type": "markdown",
   "source": [
    "# Python Data Structure   \n",
    "\n",
    "The most basic data structure in Python is the sequence. Each element of a sequence is assigned a number - its position or index. The first index is zero, the second index is one, and so forth. Python offers a number of data structures:    \n",
    "1. Tuples to group objects of different types\n",
    "2. List to group objects of the same types\n",
    "3. Arrays to work with numerical data. (There is also matrix, but some scientific function do not accept input data in matrix)\n",
    "4. Dictionaries for named, structured data sets\n",
    "5. DataFrames for statistical data analysis"
   ],
   "metadata": {}
  },
  {
   "cell_type": "markdown",
   "source": [
    "## Tuples   \n",
    "\n",
    "`Tuple()` a collection of different things. Tuples are \"immutable\", that is they cannot be modified after creation. Creating a tuple is as simple as putting different comma-separated values. Optionally, these comma-separated values can be put between parentheses also. "
   ],
   "metadata": {}
  },
  {
   "cell_type": "code",
   "execution_count": null,
   "source": [
    "# Contoh\n",
    "\n",
    "tup1 = (\"PSBB\", \"Jakarta\", \"diperpanjang\", \"Oktober\", 2019, 11)\n",
    "tup2 = \"PSBB\", \"Jakarta\", \"diperpanjang\", \"Oktober\", 2019, 11"
   ],
   "outputs": [],
   "metadata": {}
  },
  {
   "cell_type": "code",
   "execution_count": null,
   "source": [
    "# Memanggil tup1\n",
    "tup1"
   ],
   "outputs": [],
   "metadata": {}
  },
  {
   "cell_type": "code",
   "execution_count": null,
   "source": [
    "tup2"
   ],
   "outputs": [],
   "metadata": {}
  },
  {
   "cell_type": "code",
   "execution_count": null,
   "source": [
    "# Memanggil elemen ke-3 (urutan ketiga) pada tup1; ingat urutan python dari indeks 0\n",
    "tup1[2]"
   ],
   "outputs": [],
   "metadata": {}
  },
  {
   "cell_type": "code",
   "execution_count": null,
   "source": [
    "# Memanggil elemen pertama dari belakang pada tup2\n",
    "tup2[-1]"
   ],
   "outputs": [],
   "metadata": {}
  },
  {
   "cell_type": "code",
   "execution_count": null,
   "source": [
    "# Elemen dalam tuple tidak bisa diganti; akan menyebabkan error\n",
    "tup1[0] = 2"
   ],
   "outputs": [],
   "metadata": {}
  },
  {
   "cell_type": "code",
   "execution_count": null,
   "source": [
    "# Penjumlahan tuple\n",
    "\n",
    "tup1 + tup2"
   ],
   "outputs": [],
   "metadata": {}
  },
  {
   "cell_type": "code",
   "execution_count": null,
   "source": [
    "# Panjang tuple\n",
    "\n",
    "len(tup1)"
   ],
   "outputs": [],
   "metadata": {}
  },
  {
   "cell_type": "markdown",
   "source": [
    "## List   \n",
    "\n",
    "List are \"mutable\", that is their elements can be modified. Therefore lists are tipically used to collect items of the same types. Note that \"+\" concatenates list. List which can be written as a list of comma-separated values (items) between square brackets."
   ],
   "metadata": {}
  },
  {
   "cell_type": "code",
   "execution_count": null,
   "source": [
    "list1 = [\"Kasus\", \"Covid-19\", \"Indonesia\", \"lewati\", \"290,000\"]\n",
    "list2 = [1, 10, 2020, 290000, 4174]"
   ],
   "outputs": [],
   "metadata": {}
  },
  {
   "cell_type": "code",
   "execution_count": null,
   "source": [
    "# Panggil elemen kedua dari list1; ingat indeks python dimulai dari 0\n",
    "list1[1]"
   ],
   "outputs": [],
   "metadata": {}
  },
  {
   "cell_type": "code",
   "execution_count": null,
   "source": [
    "# Ganti elemen tersebut dengan string \"passed away\"\n",
    "list1[1] = \"coronavirus disease\"\n",
    "list1"
   ],
   "outputs": [],
   "metadata": {}
  },
  {
   "cell_type": "code",
   "execution_count": null,
   "source": [
    "# Menampilkan elemen pertama hingga ketiga pada list2\n",
    "list2[1:4]"
   ],
   "outputs": [],
   "metadata": {}
  },
  {
   "cell_type": "markdown",
   "source": [
    "**Note**: Perhatikan bahwa ketika kita menginginkan menampilkan data pertama hingga ketiga, kita tuliskan indeksnya 1:4. Artinya, elemen indeks keempat tidak ikut untuk ditampilkan. Data yang tampil adalah indeks ke-1, ke-2, dan ke-3. "
   ],
   "metadata": {}
  },
  {
   "cell_type": "markdown",
   "source": [
    "## Python includes following list methods:\n",
    "\n",
    "1. list.count(obj) Returns count of how many times obj occurs in list\n",
    "3. list.remove(obj) Removes object obj from list\n",
    "4. list.reverse() Reverses objects of list in place\n",
    "5. list.sort([func]) Sorts objects of list, use compare func if given"
   ],
   "metadata": {}
  },
  {
   "cell_type": "code",
   "execution_count": null,
   "source": [
    "# Menghitung banyaknya elemen \"10\" pada list2\n",
    "list2.count(10)"
   ],
   "outputs": [],
   "metadata": {}
  },
  {
   "cell_type": "code",
   "execution_count": null,
   "source": [
    "count(list2, 10) # salah"
   ],
   "outputs": [],
   "metadata": {}
  },
  {
   "cell_type": "markdown",
   "source": [
    "**Note**: terdapat dua cara untuk memanggil fungsi dalam python yaitu\n",
    "1. Dengan menggunakan tanda titik, contoh: `list2.count(10)` artinya kita mengenakan fungsi count() ke obyek list2;\n",
    "2. Dengan menggunakan tanda kurung, contoh: `len(list2)` artinya kita menggunakan fungsi len() pada obyek list2;"
   ],
   "metadata": {}
  },
  {
   "cell_type": "code",
   "execution_count": null,
   "source": [
    "# 2\n",
    "list2.remove(2020)\n",
    "list2"
   ],
   "outputs": [],
   "metadata": {}
  },
  {
   "cell_type": "code",
   "execution_count": null,
   "source": [
    "# 3\n",
    "list2.reverse()\n",
    "list2"
   ],
   "outputs": [],
   "metadata": {}
  },
  {
   "cell_type": "code",
   "execution_count": null,
   "source": [
    "# 4\n",
    "list2.sort()\n",
    "list2"
   ],
   "outputs": [],
   "metadata": {}
  },
  {
   "cell_type": "markdown",
   "source": [
    "## Dictionary\n",
    "\n",
    "Python dictionary (kamus) adalah koleksi yang tidak diurutkan, dapat diubah, dan diindeks. Dictionary (kamus) ditulis dengan awal dan akhiran kurung kurawal `{}`, serta memiliki kata kunci dan nilai [1]. Setiap kata kunci dan nilainya dipisahkan dengan tanda titik dua (:). Kamus kosong, dituliskan dengan kurung kurawal saja `{}`.\n",
    "\n",
    "Kata kunci bersifat tunggal dalam suatu kamus, sedangkan nilainya bisa tidak bersifat tunggal. Nilai kamus dapat berupa tipe data apapun. Namun, kata kunci merupakan tipe data yang tidak dapat diubah misalnya string, angka, atau tuple. "
   ],
   "metadata": {}
  },
  {
   "cell_type": "code",
   "execution_count": null,
   "source": [
    "import datetime"
   ],
   "outputs": [],
   "metadata": {}
  },
  {
   "cell_type": "code",
   "execution_count": null,
   "source": [
    "# Membuat dan menampilkan kamus\n",
    "\n",
    "ktp1 = {\n",
    "    \"Nama\": \"Bima Sakti\",\n",
    "    \"NIK\": \"3507051210810001\",\n",
    "    \"Tempat lahir\": \"Malang\",\n",
    "    \"Tanggal lahir\": datetime.datetime(1981, 10, 12),\n",
    "    \"Pekerjaan\": \"Karyawan BUMN\"\n",
    "}\n",
    "print(ktp1)"
   ],
   "outputs": [],
   "metadata": {}
  },
  {
   "cell_type": "markdown",
   "source": [
    "### Mengakses kamus\n",
    "\n",
    "Mengakses kamus dengan cara:\n",
    "1. Menyebutkan kata kunci untuk mengetahui nilai di dalam kata kunci;\n",
    "2. Menggunakan `get`\n"
   ],
   "metadata": {}
  },
  {
   "cell_type": "code",
   "execution_count": null,
   "source": [
    "x = ktp1[\"NIK\"]\n",
    "x"
   ],
   "outputs": [],
   "metadata": {}
  },
  {
   "cell_type": "code",
   "execution_count": null,
   "source": [
    "x = ktp1.get(\"NIK\")\n",
    "x"
   ],
   "outputs": [],
   "metadata": {}
  },
  {
   "cell_type": "code",
   "execution_count": null,
   "source": [
    "# Mengubah tempat lahir\n",
    "ktp1[\"Tempat lahir\"] = \"Surabaya\""
   ],
   "outputs": [],
   "metadata": {}
  },
  {
   "cell_type": "code",
   "execution_count": null,
   "source": [
    "# Mengecek nilai yang sudah diubah\n",
    "ktp1[\"Tempat lahir\"]"
   ],
   "outputs": [],
   "metadata": {}
  },
  {
   "cell_type": "code",
   "execution_count": null,
   "source": [
    "# Menambahkan suatu data, \"Kewarganegaraan: WNI\"\n",
    "ktp1[\"Kewarganegaraan\"] = \"WNI\"\n",
    "ktp1"
   ],
   "outputs": [],
   "metadata": {}
  },
  {
   "cell_type": "code",
   "execution_count": null,
   "source": [
    "# Menghapus Tanggal Lahir\n",
    "ktp1.pop(\"Tanggal lahir\")"
   ],
   "outputs": [],
   "metadata": {}
  },
  {
   "cell_type": "markdown",
   "source": [
    "Beberapa fungsi yang dapat digunakan dalam kamus:\n",
    " - kamus.copy()  \n",
    " - kamus.get() \n",
    " - kamus.keys()\n",
    " - kamus.items()\n",
    " - kamus.pop()\n"
   ],
   "metadata": {}
  },
  {
   "cell_type": "markdown",
   "source": [
    "## Set\n",
    "\n",
    "A set is a collection which is unordered and unindexed. In Python sets are written with curly brackets. contoh: fruits = {apple, banana, orange, grape}"
   ],
   "metadata": {}
  },
  {
   "cell_type": "code",
   "execution_count": 47,
   "source": [
    "# Contoh set\n",
    "fruits = {\"apple\", \"banana\", \"orange\", \"grape\"}"
   ],
   "outputs": [],
   "metadata": {}
  },
  {
   "cell_type": "code",
   "execution_count": null,
   "source": [
    "# Set tidak dapat dipanggil elemennya; akan menyebabkan error. Ingat, set tidak berindeks\n",
    "fruits[2]"
   ],
   "outputs": [],
   "metadata": {}
  },
  {
   "cell_type": "markdown",
   "source": [
    "## Array   \n",
    "\n",
    "vectors and matrices, for numerical data manipulation. Defined in numpy. Note that vectors and 1-d arrays are different: vectors CANNOT be transposed! With arrays, “+” adds the corresponding elements; and the array- method .dot performs a scalar multiplication of two arrays. (From Python 3.5 onward, this can also be achieved with the “@” operator.). \n",
    "\n",
    "Package numpy is used to manipulate array. "
   ],
   "metadata": {}
  },
  {
   "cell_type": "markdown",
   "source": [
    "## DataFrame \n",
    "\n",
    "Data structure optimized for working with named, statistical data. Defined in pandas."
   ],
   "metadata": {}
  },
  {
   "cell_type": "markdown",
   "source": [
    "## Reference \n",
    "\n",
    "1. Haslwanter, Thomas. 2016. An Introduction to Statistics with Python. Springer.   \n",
    "2. [tutorialspoint: list](https://www.tutorialspoint.com/python/python_lists.htm)\n",
    "3. [tutorialspoint: tuples](https://www.tutorialspoint.com/python/python_tuples.htm)"
   ],
   "metadata": {}
  },
  {
   "cell_type": "code",
   "execution_count": null,
   "source": [
    "? list.sort()"
   ],
   "outputs": [],
   "metadata": {}
  }
 ],
 "metadata": {
  "kernelspec": {
   "display_name": "Python 3",
   "language": "python",
   "name": "python3"
  },
  "language_info": {
   "codemirror_mode": {
    "name": "ipython",
    "version": 3
   },
   "file_extension": ".py",
   "mimetype": "text/x-python",
   "name": "python",
   "nbconvert_exporter": "python",
   "pygments_lexer": "ipython3",
   "version": "3.7.0"
  }
 },
 "nbformat": 4,
 "nbformat_minor": 2
}