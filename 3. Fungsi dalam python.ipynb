{
 "cells": [
  {
   "cell_type": "markdown",
   "source": [
    "## Membuat fungsi\n",
    "\n",
    "Suatu fungsi adalah satu blok kode yang terorganisir dan dapat digunakan kembali. Fungsi akan berjalan jika dipanggil. Kita dapat memasukkan suatu data ke dalam fungsi, disebut dengan parameter. Fungsi tersebut, akan mengeluarkan data sebagai hasil. \n",
    "\n",
    "Python memberikan kita fungsi bulit-in, seperti: print() yang digunakan untuk menampilkan suatu variabel.   \n",
    "\n",
    "Mendefinisikan fungsi:  \n",
    "1. Blok fungsi dimulai dengan kata kunci `def` dan diikuti dengan `nama fungsi` dan kurung `( () )`  \n",
    "2. Input/argumen harus diletakkan di dalam tanda kurung. Selain itu, fungsi kurung digunakan untuk mendefinisikan parameter di dalamnya.  \n",
    "3. Fungsi terdiri dari header dan body. Header terdiri dari nama dan parameter (input), sedangkan body terdiri dari statement-statement yang merupakan blok kode. \n",
    "3. Statement pertama dapat merupakan statement opsional: dokumen string atau docstring.  \n",
    "3. Blok suatu kode di setiap fungsi dimulai dengan tanda titik dua (:) dan menjorok *(indented)*.  \n",
    "4. Statement `return (ekspresi)` keluar suatu fungsi, secara opsional mengembalikan suatu ekspresi ke pemanggil fungsi. Suatu statement return dengan tanpa argumen sama saja sebagai return None.   \n",
    "\n",
    "Sintaks fungsi:  \n",
    "```\n",
    "def nama_fungsi( parameters ):\n",
    "   \"function_docstring\"\n",
    "   \n",
    "   kode program\n",
    "   kode program\n",
    "   kode program \n",
    "   ...\n",
    "   \n",
    "   return (expression)\n",
    "```"
   ],
   "metadata": {}
  },
  {
   "cell_type": "markdown",
   "source": [
    "## 1. Fungsi tanpa parameter input dan satu return"
   ],
   "metadata": {}
  },
  {
   "cell_type": "code",
   "execution_count": null,
   "source": [
    "def cetak():\n",
    "    print(\"Mata kuliah data intelligent dengan python\")"
   ],
   "outputs": [],
   "metadata": {}
  },
  {
   "cell_type": "code",
   "execution_count": null,
   "source": [
    "cetak()"
   ],
   "outputs": [],
   "metadata": {}
  },
  {
   "cell_type": "code",
   "execution_count": null,
   "source": [
    "def kuadrat():\n",
    "    \"Return nilai kuadrat 8\"\n",
    "    nilai = 8**2\n",
    "    return(nilai)"
   ],
   "outputs": [],
   "metadata": {}
  },
  {
   "cell_type": "code",
   "execution_count": null,
   "source": [
    "kuadrat()"
   ],
   "outputs": [],
   "metadata": {}
  },
  {
   "cell_type": "markdown",
   "source": [
    "### Latihan 1\n",
    "Buatlah fungsi dengan nama: aku(), berikan doscstring, badan fungsi adalah nilai_aku (isi dengan sebarang nilai: str, int, float), contoh: nilai_aku = \"Orang yang rajin meng-coding\""
   ],
   "metadata": {}
  },
  {
   "cell_type": "code",
   "execution_count": null,
   "source": [
    "# Contoh\n",
    "def aku():\n",
    "    \"Return nilai aku\"\n",
    "    nilai_aku = str(1) + \" Orang yang rajin meng-coding\" \n",
    "    return(nilai_aku)"
   ],
   "outputs": [],
   "metadata": {}
  },
  {
   "cell_type": "code",
   "execution_count": null,
   "source": [
    "aku()"
   ],
   "outputs": [],
   "metadata": {}
  },
  {
   "cell_type": "markdown",
   "source": [
    "## 2. Fungsi dengan satu parameter input"
   ],
   "metadata": {}
  },
  {
   "cell_type": "code",
   "execution_count": null,
   "source": [
    "# Contoh\n",
    "def kuadrat(angka):\n",
    "    \"Return nilai kuadrat dari angka\"\n",
    "    nilai = angka**2\n",
    "    return(nilai)"
   ],
   "outputs": [],
   "metadata": {}
  },
  {
   "cell_type": "code",
   "execution_count": null,
   "source": [
    "kuadrat(100.5)"
   ],
   "outputs": [],
   "metadata": {}
  },
  {
   "cell_type": "markdown",
   "source": [
    "### Latihan 2\n",
    "Buatlah parameter (input) untuk fungsi aku()"
   ],
   "metadata": {}
  },
  {
   "cell_type": "code",
   "execution_count": null,
   "source": [
    "# Contoh\n",
    "def aku(bahasa):\n",
    "    \"Return nilai aku\"\n",
    "    nilai_aku = \"Orang yang rajin meng-coding \" + bahasa\n",
    "    return(nilai_aku)"
   ],
   "outputs": [],
   "metadata": {}
  },
  {
   "cell_type": "code",
   "execution_count": null,
   "source": [
    "aku(\"python\")"
   ],
   "outputs": [],
   "metadata": {}
  },
  {
   "cell_type": "code",
   "execution_count": null,
   "source": [
    "aku(\"R\")"
   ],
   "outputs": [],
   "metadata": {}
  },
  {
   "cell_type": "markdown",
   "source": [
    "## 3. Fungsi dengan lebih dari satu parameter"
   ],
   "metadata": {}
  },
  {
   "cell_type": "code",
   "execution_count": null,
   "source": [
    "# Perhatikan return dalam fungsi berikut\n",
    "\n",
    "def uii(nama, nim):\n",
    "    print(\"Nama:\", nama)\n",
    "    print(\"NIM :\", nim)\n",
    "    return"
   ],
   "outputs": [],
   "metadata": {}
  },
  {
   "cell_type": "code",
   "execution_count": null,
   "source": [
    "uii(\"Arum\", \"146110504\")"
   ],
   "outputs": [],
   "metadata": {}
  },
  {
   "cell_type": "markdown",
   "source": [
    "## 4. Fungsi dengan lebih dari satu return\n",
    "\n",
    "Ditampilkan dalam bentuk tuple. \n",
    " "
   ],
   "metadata": {}
  },
  {
   "cell_type": "code",
   "execution_count": null,
   "source": [
    "# Tuple\n",
    "buah = (\"apel\", \"jeruk\", \"pisang\")\n",
    "print(buah)"
   ],
   "outputs": [],
   "metadata": {}
  },
  {
   "cell_type": "code",
   "execution_count": null,
   "source": [
    "a, b, c = buah\n",
    "print(a)\n",
    "print(c)"
   ],
   "outputs": [],
   "metadata": {}
  },
  {
   "cell_type": "code",
   "execution_count": null,
   "source": [
    "# Gunakan tuple untuk return yang lebih dari satu\n",
    "\n",
    "def ukuran(a, b):\n",
    "    \"Return keliling dan luas persegi panjang\"\n",
    "    keliling = 2*(a+b)\n",
    "    luas = a*b\n",
    "    return(keliling, luas)\n",
    "    "
   ],
   "outputs": [],
   "metadata": {}
  },
  {
   "cell_type": "code",
   "execution_count": null,
   "source": [
    "ukuran(4, 8)"
   ],
   "outputs": [],
   "metadata": {}
  },
  {
   "cell_type": "code",
   "execution_count": null,
   "source": [
    "kel, lu = ukuran(4,8)"
   ],
   "outputs": [],
   "metadata": {}
  },
  {
   "cell_type": "code",
   "execution_count": null,
   "source": [
    "print(kel)"
   ],
   "outputs": [],
   "metadata": {}
  },
  {
   "cell_type": "markdown",
   "source": [
    "### Latihan 3\n",
    "\n",
    "Buatlah fungsi pembungaan berikut:  \n",
    "1. Bunga tunggal         \n",
    "    Bunga efektif: $i_e = \\frac{i}{1+i*(t-1)}$         \n",
    "    Nilai akumulasi: $At = k*(1+it)$         \n",
    "2. Bunga majemuk   \n",
    "    Bunga efektif: $i_e = i$       \n",
    "    Nilai akumulasi: $At = k*(1+i)^t$   \n",
    "  \n",
    "Berikan nama fungsi: bunga(), lengkapi dengan docstring, return ke nilai bunga efektif dan akumulasi bunga tunggal dan majemuk"
   ],
   "metadata": {}
  },
  {
   "cell_type": "code",
   "execution_count": null,
   "source": [
    "# buat fungsi pembungaan\n",
    "\n",
    "def bunga(pil, k, i, t):\n",
    "    '''\n",
    "    return ke nilai akumulasi bunga tunggal dan majemuk\n",
    "    pil = 1 untuk memilih bunga tunggal, pil = lainnya untk bunga majemuk\n",
    "    i = bunga\n",
    "    t = periode (tahun)\n",
    "    k = modal\n",
    "    '''\n",
    "    if pil == 1:\n",
    "        ie = i/(1+i*(t-1))\n",
    "        ak = k*(1+i*t)\n",
    "    else:\n",
    "        ie = i\n",
    "        ak = k*(1+i)**t\n",
    "        \n",
    "    return(ie, ak)"
   ],
   "outputs": [],
   "metadata": {}
  },
  {
   "cell_type": "code",
   "execution_count": null,
   "source": [
    "# berikan return pada dua obyek berbeda a, b\n",
    "a, b = bunga(2, 100, 0.08, 4)"
   ],
   "outputs": [],
   "metadata": {}
  },
  {
   "cell_type": "code",
   "execution_count": null,
   "source": [
    "# print output a\n",
    "print(a, b)"
   ],
   "outputs": [],
   "metadata": {}
  },
  {
   "cell_type": "code",
   "execution_count": null,
   "source": [
    "from random import randint"
   ],
   "outputs": [],
   "metadata": {}
  },
  {
   "cell_type": "markdown",
   "source": [
    "### Latihan 4\n",
    "\n",
    "Buat suatu fungsi mengeluarkan bilangan random dengan aturan berikut:\n",
    "1. Memiliki input x: jumlah bilangan random dan y: batas atas bilangan random (0,y)\n",
    "2. Berikan nama fungsinya toss\n",
    "3. Berikan kategori berikut:     \n",
    "\n",
    "| bilangan random (a) | kategori       \n",
    "|:-------|:-----------   \n",
    "|a>=200 | tinggi    \n",
    "|100<=a<200 | sedang         \n",
    "|a<100 | rendah   \n",
    "\n",
    "contoh output merandom 3 bilangan dengan batas (0,500), dengan kategori seperti poin 3).  \n",
    "\n",
    "`toss(3, 500)`   \n",
    "0 200 tinggi   \n",
    "1 104 sedang    \n",
    "2 20  rendah    "
   ],
   "metadata": {}
  },
  {
   "cell_type": "markdown",
   "source": [
    "## 5. Fungsi lambda\n",
    "\n",
    "Fungsi lambda adalah fungsi anonim yang kecil. Fungsi lambda dapat mengambil sejumlah argumen, tetapi hanya dapat memiliki satu ekspresi [3]. \n",
    "\n",
    "Fungsi-fungsi ini disebut anonim karena mereka tidak dideklarasikan dengan cara standar dengan menggunakan kata kunci `def`. Anda dapat menggunakan kata kunci lambda untuk membuat fungsi anonim kecil [1]. \n",
    "1. Bentuk lambda dapat mengambil sejumlah argumen tetapi hanya menghasilkan satu nilai dalam bentuk ekspresi. Mereka tidak dapat memuat perintah atau beberapa ekspresi.  \n",
    "2. Fungsi anonim tidak dapat panggilan langsung untuk mencetak karena lambda membutuhkan ekspresi.  \n",
    "3. Fungsi Lambda memiliki namespace lokal mereka sendiri dan tidak dapat mengakses variabel selain yang ada di daftar parameter mereka dan yang ada di namespace global.   \n",
    "  \n",
    "Sintak lamba:\n",
    "```\n",
    "lambda argumen-argumen : ekspresi\n",
    "```"
   ],
   "metadata": {}
  },
  {
   "cell_type": "code",
   "execution_count": null,
   "source": [
    "# Fungsi lambda yang menjumlahkan dengan 5, pada angka yang dituliskan dalam argumen\n",
    "\n",
    "x = lambda a: a + 5"
   ],
   "outputs": [],
   "metadata": {}
  },
  {
   "cell_type": "code",
   "execution_count": null,
   "source": [
    "print(x(7))"
   ],
   "outputs": [],
   "metadata": {}
  },
  {
   "cell_type": "code",
   "execution_count": null,
   "source": [
    "jumlah = lambda x, y: x+y"
   ],
   "outputs": [],
   "metadata": {}
  },
  {
   "cell_type": "code",
   "execution_count": null,
   "source": [
    "print(jumlah(20, 100))"
   ],
   "outputs": [],
   "metadata": {}
  },
  {
   "cell_type": "markdown",
   "source": [
    "### Latihan 5\n",
    "1. Buatlah lambda untuk modulo suatu bilangan dengan 4. Contoh (6 mod 4) = 2, (12 mod 4) = 0 . \n",
    "2. Buatlah lambda dengan input a, b, dan c dengan rumus $\\frac{1+a^b}{c}$"
   ],
   "metadata": {}
  },
  {
   "cell_type": "markdown",
   "source": [
    "Reference:\n",
    "1. tutorial point, 2018, Python Function, https://www.tutorialspoint.com/python/python_functions.htm\n",
    "2. w3schools, 2018, Python Function, https://www.w3schools.com/python/python_functions.asp \n",
    "3. w3schools, 2018, Python Lambda, https://www.w3schools.com/python/python_lambda.asp  \n"
   ],
   "metadata": {}
  }
 ],
 "metadata": {
  "kernelspec": {
   "display_name": "Python 3",
   "language": "python",
   "name": "python3"
  },
  "language_info": {
   "codemirror_mode": {
    "name": "ipython",
    "version": 3
   },
   "file_extension": ".py",
   "mimetype": "text/x-python",
   "name": "python",
   "nbconvert_exporter": "python",
   "pygments_lexer": "ipython3",
   "version": "3.7.0"
  }
 },
 "nbformat": 4,
 "nbformat_minor": 2
}